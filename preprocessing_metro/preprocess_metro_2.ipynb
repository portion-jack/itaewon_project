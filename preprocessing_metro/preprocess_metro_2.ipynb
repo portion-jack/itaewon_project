{
 "cells": [
  {
   "cell_type": "code",
   "execution_count": 1,
   "metadata": {
    "collapsed": true,
    "pycharm": {
     "name": "#%%\n"
    }
   },
   "outputs": [],
   "source": [
    "import pandas as pd"
   ]
  },
  {
   "cell_type": "code",
   "execution_count": 2,
   "outputs": [],
   "source": [
    "import glob"
   ],
   "metadata": {
    "collapsed": false,
    "pycharm": {
     "name": "#%%\n"
    }
   }
  },
  {
   "cell_type": "code",
   "execution_count": 7,
   "outputs": [],
   "source": [
    "preprocessed_data_list=sorted(glob.glob('../raw_data/seoul_metro_raw/*.csv'))[1:6]"
   ],
   "metadata": {
    "collapsed": false,
    "pycharm": {
     "name": "#%%\n"
    }
   }
  },
  {
   "cell_type": "code",
   "execution_count": 8,
   "outputs": [
    {
     "data": {
      "text/plain": "['../raw_data/seoul_metro_raw/pp_2017.csv',\n '../raw_data/seoul_metro_raw/pp_2018.csv',\n '../raw_data/seoul_metro_raw/pp_2019.csv',\n '../raw_data/seoul_metro_raw/pp_2020.csv',\n '../raw_data/seoul_metro_raw/pp_2021.csv']"
     },
     "execution_count": 8,
     "metadata": {},
     "output_type": "execute_result"
    }
   ],
   "source": [
    "preprocessed_data_list"
   ],
   "metadata": {
    "collapsed": false,
    "pycharm": {
     "name": "#%%\n"
    }
   }
  },
  {
   "cell_type": "code",
   "execution_count": 49,
   "outputs": [],
   "source": [
    "df_2017=pd.read_csv(preprocessed_data_list[0],index_col=0)\n",
    "df_2018=pd.read_csv(preprocessed_data_list[1],index_col=0)\n",
    "df_2019=pd.read_csv(preprocessed_data_list[2],index_col=0)\n",
    "df_2020=pd.read_csv(preprocessed_data_list[3],index_col=0)\n",
    "df_2021=pd.read_csv(preprocessed_data_list[4],index_col=0)"
   ],
   "metadata": {
    "collapsed": false,
    "pycharm": {
     "name": "#%%\n"
    }
   }
  },
  {
   "cell_type": "code",
   "execution_count": 14,
   "outputs": [
    {
     "data": {
      "text/plain": "array([ True,  True,  True,  True,  True,  True,  True,  True,  True,\n        True,  True,  True,  True,  True,  True,  True,  True,  True,\n        True,  True,  True,  True,  True,  True])"
     },
     "execution_count": 14,
     "metadata": {},
     "output_type": "execute_result"
    }
   ],
   "source": [
    "df_2017.columns == df_2018.columns"
   ],
   "metadata": {
    "collapsed": false,
    "pycharm": {
     "name": "#%%\n"
    }
   }
  },
  {
   "cell_type": "code",
   "execution_count": 15,
   "outputs": [
    {
     "data": {
      "text/plain": "array([ True,  True,  True, False,  True,  True,  True,  True,  True,\n        True,  True,  True,  True,  True,  True,  True,  True,  True,\n        True,  True,  True,  True, False,  True])"
     },
     "execution_count": 15,
     "metadata": {},
     "output_type": "execute_result"
    }
   ],
   "source": [
    "df_2017.columns == df_2019.columns"
   ],
   "metadata": {
    "collapsed": false,
    "pycharm": {
     "name": "#%%\n"
    }
   }
  },
  {
   "cell_type": "code",
   "execution_count": 23,
   "outputs": [
    {
     "data": {
      "text/plain": "'00~01'"
     },
     "execution_count": 23,
     "metadata": {},
     "output_type": "execute_result"
    }
   ],
   "source": [
    "df_2018.columns[22]"
   ],
   "metadata": {
    "collapsed": false,
    "pycharm": {
     "name": "#%%\n"
    }
   }
  },
  {
   "cell_type": "code",
   "execution_count": 24,
   "outputs": [
    {
     "data": {
      "text/plain": "'24시이후'"
     },
     "execution_count": 24,
     "metadata": {},
     "output_type": "execute_result"
    }
   ],
   "source": [
    "df_2019.columns[22]"
   ],
   "metadata": {
    "collapsed": false,
    "pycharm": {
     "name": "#%%\n"
    }
   }
  },
  {
   "cell_type": "code",
   "execution_count": 26,
   "outputs": [],
   "source": [
    "df_2019.rename(columns={df_2019.columns[3]:df_2018.columns[3],df_2019.columns[22]:df_2018.columns[22]},inplace=True)"
   ],
   "metadata": {
    "collapsed": false,
    "pycharm": {
     "name": "#%%\n"
    }
   }
  },
  {
   "cell_type": "code",
   "execution_count": 27,
   "outputs": [
    {
     "data": {
      "text/plain": "array([ True,  True,  True,  True,  True,  True,  True,  True,  True,\n        True,  True,  True,  True,  True,  True,  True,  True,  True,\n        True,  True,  True,  True,  True,  True])"
     },
     "execution_count": 27,
     "metadata": {},
     "output_type": "execute_result"
    }
   ],
   "source": [
    "df_2018.columns==df_2019.columns"
   ],
   "metadata": {
    "collapsed": false,
    "pycharm": {
     "name": "#%%\n"
    }
   }
  },
  {
   "cell_type": "code",
   "execution_count": 28,
   "outputs": [
    {
     "ename": "ValueError",
     "evalue": "Lengths must match to compare",
     "output_type": "error",
     "traceback": [
      "\u001B[0;31m---------------------------------------------------------------------------\u001B[0m",
      "\u001B[0;31mValueError\u001B[0m                                Traceback (most recent call last)",
      "Cell \u001B[0;32mIn [28], line 1\u001B[0m\n\u001B[0;32m----> 1\u001B[0m df_2019\u001B[38;5;241m.\u001B[39mcolumns \u001B[38;5;241m==\u001B[39m df_2020\u001B[38;5;241m.\u001B[39mcolumns\n",
      "File \u001B[0;32m/opt/homebrew/Caskroom/miniforge/base/envs/crawling/lib/python3.10/site-packages/pandas/core/ops/common.py:72\u001B[0m, in \u001B[0;36m_unpack_zerodim_and_defer.<locals>.new_method\u001B[0;34m(self, other)\u001B[0m\n\u001B[1;32m     68\u001B[0m             \u001B[38;5;28;01mreturn\u001B[39;00m \u001B[38;5;28mNotImplemented\u001B[39m\n\u001B[1;32m     70\u001B[0m other \u001B[38;5;241m=\u001B[39m item_from_zerodim(other)\n\u001B[0;32m---> 72\u001B[0m \u001B[38;5;28;01mreturn\u001B[39;00m \u001B[43mmethod\u001B[49m\u001B[43m(\u001B[49m\u001B[38;5;28;43mself\u001B[39;49m\u001B[43m,\u001B[49m\u001B[43m \u001B[49m\u001B[43mother\u001B[49m\u001B[43m)\u001B[49m\n",
      "File \u001B[0;32m/opt/homebrew/Caskroom/miniforge/base/envs/crawling/lib/python3.10/site-packages/pandas/core/arraylike.py:43\u001B[0m, in \u001B[0;36mOpsMixin.__eq__\u001B[0;34m(self, other)\u001B[0m\n\u001B[1;32m     41\u001B[0m \u001B[38;5;129m@unpack_zerodim_and_defer\u001B[39m(\u001B[38;5;124m\"\u001B[39m\u001B[38;5;124m__eq__\u001B[39m\u001B[38;5;124m\"\u001B[39m)\n\u001B[1;32m     42\u001B[0m \u001B[38;5;28;01mdef\u001B[39;00m \u001B[38;5;21m__eq__\u001B[39m(\u001B[38;5;28mself\u001B[39m, other):\n\u001B[0;32m---> 43\u001B[0m     \u001B[38;5;28;01mreturn\u001B[39;00m \u001B[38;5;28;43mself\u001B[39;49m\u001B[38;5;241;43m.\u001B[39;49m\u001B[43m_cmp_method\u001B[49m\u001B[43m(\u001B[49m\u001B[43mother\u001B[49m\u001B[43m,\u001B[49m\u001B[43m \u001B[49m\u001B[43moperator\u001B[49m\u001B[38;5;241;43m.\u001B[39;49m\u001B[43meq\u001B[49m\u001B[43m)\u001B[49m\n",
      "File \u001B[0;32m/opt/homebrew/Caskroom/miniforge/base/envs/crawling/lib/python3.10/site-packages/pandas/core/indexes/base.py:7000\u001B[0m, in \u001B[0;36mIndex._cmp_method\u001B[0;34m(self, other, op)\u001B[0m\n\u001B[1;32m   6995\u001B[0m         \u001B[38;5;28;01mreturn\u001B[39;00m arr\n\u001B[1;32m   6997\u001B[0m \u001B[38;5;28;01mif\u001B[39;00m \u001B[38;5;28misinstance\u001B[39m(other, (np\u001B[38;5;241m.\u001B[39mndarray, Index, ABCSeries, ExtensionArray)) \u001B[38;5;129;01mand\u001B[39;00m \u001B[38;5;28mlen\u001B[39m(\n\u001B[1;32m   6998\u001B[0m     \u001B[38;5;28mself\u001B[39m\n\u001B[1;32m   6999\u001B[0m ) \u001B[38;5;241m!=\u001B[39m \u001B[38;5;28mlen\u001B[39m(other):\n\u001B[0;32m-> 7000\u001B[0m     \u001B[38;5;28;01mraise\u001B[39;00m \u001B[38;5;167;01mValueError\u001B[39;00m(\u001B[38;5;124m\"\u001B[39m\u001B[38;5;124mLengths must match to compare\u001B[39m\u001B[38;5;124m\"\u001B[39m)\n\u001B[1;32m   7002\u001B[0m \u001B[38;5;28;01mif\u001B[39;00m \u001B[38;5;129;01mnot\u001B[39;00m \u001B[38;5;28misinstance\u001B[39m(other, ABCMultiIndex):\n\u001B[1;32m   7003\u001B[0m     other \u001B[38;5;241m=\u001B[39m extract_array(other, extract_numpy\u001B[38;5;241m=\u001B[39m\u001B[38;5;28;01mTrue\u001B[39;00m)\n",
      "\u001B[0;31mValueError\u001B[0m: Lengths must match to compare"
     ]
    }
   ],
   "source": [
    "df_2019.columns == df_2020.columns"
   ],
   "metadata": {
    "collapsed": false,
    "pycharm": {
     "name": "#%%\n"
    }
   }
  },
  {
   "cell_type": "code",
   "execution_count": 30,
   "outputs": [],
   "source": [
    "df_2020.rename(columns={df_2020.columns[3]:df_2018.columns[3],df_2020.columns[22]:df_2018.columns[22]},inplace=True)"
   ],
   "metadata": {
    "collapsed": false,
    "pycharm": {
     "name": "#%%\n"
    }
   }
  },
  {
   "cell_type": "code",
   "execution_count": 33,
   "outputs": [],
   "source": [
    "df_2020['합계']=df_2020.iloc[:,3:].sum(axis=1)"
   ],
   "metadata": {
    "collapsed": false,
    "pycharm": {
     "name": "#%%\n"
    }
   }
  },
  {
   "cell_type": "code",
   "execution_count": 37,
   "outputs": [
    {
     "data": {
      "text/plain": "array([False, False, False, False, False, False, False, False, False,\n       False, False, False, False, False, False, False, False, False,\n       False, False, False, False, False,  True])"
     },
     "execution_count": 37,
     "metadata": {},
     "output_type": "execute_result"
    }
   ],
   "source": [
    "df_2020.columns==df_2021.columns"
   ],
   "metadata": {
    "collapsed": false,
    "pycharm": {
     "name": "#%%\n"
    }
   }
  },
  {
   "cell_type": "code",
   "execution_count": 39,
   "outputs": [],
   "source": [
    "df_2021.drop('연번',axis=1,inplace=True)"
   ],
   "metadata": {
    "collapsed": false,
    "pycharm": {
     "name": "#%%\n"
    }
   }
  },
  {
   "cell_type": "code",
   "execution_count": 50,
   "outputs": [
    {
     "data": {
      "text/plain": "array([False, False, False, False, False, False, False, False, False,\n       False, False, False, False, False, False, False, False, False,\n       False, False, False, False, False,  True])"
     },
     "execution_count": 50,
     "metadata": {},
     "output_type": "execute_result"
    }
   ],
   "source": [
    "df_2020.columns==df_2021.columns"
   ],
   "metadata": {
    "collapsed": false,
    "pycharm": {
     "name": "#%%\n"
    }
   }
  },
  {
   "cell_type": "code",
   "execution_count": 42,
   "outputs": [],
   "source": [
    "df_2021.rename(columns={df_2021.columns[3]:df_2018.columns[3],df_2021.columns[22]:df_2018.columns[22]},inplace=True)"
   ],
   "metadata": {
    "collapsed": false,
    "pycharm": {
     "name": "#%%\n"
    }
   }
  },
  {
   "cell_type": "code",
   "execution_count": 43,
   "outputs": [],
   "source": [
    "df_2021['합계']=df_2021.iloc[:,3:].sum(axis=1)"
   ],
   "metadata": {
    "collapsed": false,
    "pycharm": {
     "name": "#%%\n"
    }
   }
  },
  {
   "cell_type": "code",
   "execution_count": 55,
   "outputs": [],
   "source": [
    "df_2021.drop('연번',axis=1,inplace=True)"
   ],
   "metadata": {
    "collapsed": false,
    "pycharm": {
     "name": "#%%\n"
    }
   }
  },
  {
   "cell_type": "code",
   "execution_count": 57,
   "outputs": [
    {
     "data": {
      "text/plain": "Index(['날짜', '역명', '구분', '06이전', '06~07', '07~08', '08~09', '09~10', '10~11',\n       '11~12', '12~13', '13~14', '14~15', '15~16', '16~17', '17~18', '18~19',\n       '19~20', '20~21', '21~22', '22~23', '23이후', '합계'],\n      dtype='object')"
     },
     "execution_count": 57,
     "metadata": {},
     "output_type": "execute_result"
    }
   ],
   "source": [
    "df_2021.columns"
   ],
   "metadata": {
    "collapsed": false,
    "pycharm": {
     "name": "#%%\n"
    }
   }
  },
  {
   "cell_type": "code",
   "execution_count": 64,
   "outputs": [
    {
     "data": {
      "text/plain": "Index(['날짜', '역명', '구분', '05~06', '06~07', '07~08', '08~09', '09~10', '10~11',\n       '11~12', '12~13', '13~14', '14~15', '15~16', '16~17', '17~18', '18~19',\n       '19~20', '20~21', '21~22', '22~23', '23~24', '00~01', '합계'],\n      dtype='object')"
     },
     "execution_count": 64,
     "metadata": {},
     "output_type": "execute_result"
    }
   ],
   "source": [
    "df_2020.columns"
   ],
   "metadata": {
    "collapsed": false,
    "pycharm": {
     "name": "#%%\n"
    }
   }
  },
  {
   "cell_type": "code",
   "execution_count": 60,
   "outputs": [],
   "source": [
    "df_2021['00~01']=0"
   ],
   "metadata": {
    "collapsed": false,
    "pycharm": {
     "name": "#%%\n"
    }
   }
  },
  {
   "cell_type": "code",
   "execution_count": 65,
   "outputs": [],
   "source": [
    "df_2021.rename(columns={'06이전':'06~07','23이후':'23~24'},inplace=True)"
   ],
   "metadata": {
    "collapsed": false,
    "pycharm": {
     "name": "#%%\n"
    }
   }
  },
  {
   "cell_type": "code",
   "execution_count": 68,
   "outputs": [
    {
     "data": {
      "text/plain": "                날짜   역명  구분  06~07  06~07  07~08  08~09  09~10  10~11  11~12  \\\n0       2021-01-01  서울역  승차     86    111    157    306    333    416    579   \n1       2021-01-01  서울역  하차     85    355    438    592    841    747    625   \n2       2021-01-01   시청  승차     43     45     75    111     95     76    117   \n3       2021-01-01   시청  하차     40    145    176    312    223    189    208   \n4       2021-01-01   종각  승차     49     59     89    126    125    113    191   \n...            ...  ...  ..    ...    ...    ...    ...    ...    ...    ...   \n204369  2021-12-31   수진  하차     25     75     96    340    180    179    189   \n204370  2021-12-31   모란  승차     44    102    279    391    187    178    185   \n204371  2021-12-31   모란  하차     20     96    120    311    132    143    173   \n204372  2021-12-31  남위례  승차     20     83    279    347    138    186    240   \n204373  2021-12-31  남위례  하차     10     41    119    375    147     76    112   \n\n        ...  16~17  17~18  18~19  19~20  20~21  21~22  22~23  23~24    합계  \\\n0       ...    796    839    658    579    479    510    445    101  9339   \n1       ...    710    626    437    425    354    307    134     77  9951   \n2       ...    233    347    294    186    216    204    110     29  2947   \n3       ...    140    152    121     57     54     64     23     17  2700   \n4       ...    548    504    572    492    593    513    130     31  5686   \n...     ...    ...    ...    ...    ...    ...    ...    ...    ...   ...   \n204369  ...    389    407    439    317    223    323    204    100  4605   \n204370  ...    393    360    351    206    197    209     90     24  4328   \n204371  ...    290    286    347    176    107    154     96     52  3402   \n204372  ...    218    277    184     74     73     95     54     18  3092   \n204373  ...    341    322    382    263    145    209    138     34  3438   \n\n        00~01  \n0           0  \n1           0  \n2           0  \n3           0  \n4           0  \n...       ...  \n204369      0  \n204370      0  \n204371      0  \n204372      0  \n204373      0  \n\n[204374 rows x 24 columns]",
      "text/html": "<div>\n<style scoped>\n    .dataframe tbody tr th:only-of-type {\n        vertical-align: middle;\n    }\n\n    .dataframe tbody tr th {\n        vertical-align: top;\n    }\n\n    .dataframe thead th {\n        text-align: right;\n    }\n</style>\n<table border=\"1\" class=\"dataframe\">\n  <thead>\n    <tr style=\"text-align: right;\">\n      <th></th>\n      <th>날짜</th>\n      <th>역명</th>\n      <th>구분</th>\n      <th>06~07</th>\n      <th>06~07</th>\n      <th>07~08</th>\n      <th>08~09</th>\n      <th>09~10</th>\n      <th>10~11</th>\n      <th>11~12</th>\n      <th>...</th>\n      <th>16~17</th>\n      <th>17~18</th>\n      <th>18~19</th>\n      <th>19~20</th>\n      <th>20~21</th>\n      <th>21~22</th>\n      <th>22~23</th>\n      <th>23~24</th>\n      <th>합계</th>\n      <th>00~01</th>\n    </tr>\n  </thead>\n  <tbody>\n    <tr>\n      <th>0</th>\n      <td>2021-01-01</td>\n      <td>서울역</td>\n      <td>승차</td>\n      <td>86</td>\n      <td>111</td>\n      <td>157</td>\n      <td>306</td>\n      <td>333</td>\n      <td>416</td>\n      <td>579</td>\n      <td>...</td>\n      <td>796</td>\n      <td>839</td>\n      <td>658</td>\n      <td>579</td>\n      <td>479</td>\n      <td>510</td>\n      <td>445</td>\n      <td>101</td>\n      <td>9339</td>\n      <td>0</td>\n    </tr>\n    <tr>\n      <th>1</th>\n      <td>2021-01-01</td>\n      <td>서울역</td>\n      <td>하차</td>\n      <td>85</td>\n      <td>355</td>\n      <td>438</td>\n      <td>592</td>\n      <td>841</td>\n      <td>747</td>\n      <td>625</td>\n      <td>...</td>\n      <td>710</td>\n      <td>626</td>\n      <td>437</td>\n      <td>425</td>\n      <td>354</td>\n      <td>307</td>\n      <td>134</td>\n      <td>77</td>\n      <td>9951</td>\n      <td>0</td>\n    </tr>\n    <tr>\n      <th>2</th>\n      <td>2021-01-01</td>\n      <td>시청</td>\n      <td>승차</td>\n      <td>43</td>\n      <td>45</td>\n      <td>75</td>\n      <td>111</td>\n      <td>95</td>\n      <td>76</td>\n      <td>117</td>\n      <td>...</td>\n      <td>233</td>\n      <td>347</td>\n      <td>294</td>\n      <td>186</td>\n      <td>216</td>\n      <td>204</td>\n      <td>110</td>\n      <td>29</td>\n      <td>2947</td>\n      <td>0</td>\n    </tr>\n    <tr>\n      <th>3</th>\n      <td>2021-01-01</td>\n      <td>시청</td>\n      <td>하차</td>\n      <td>40</td>\n      <td>145</td>\n      <td>176</td>\n      <td>312</td>\n      <td>223</td>\n      <td>189</td>\n      <td>208</td>\n      <td>...</td>\n      <td>140</td>\n      <td>152</td>\n      <td>121</td>\n      <td>57</td>\n      <td>54</td>\n      <td>64</td>\n      <td>23</td>\n      <td>17</td>\n      <td>2700</td>\n      <td>0</td>\n    </tr>\n    <tr>\n      <th>4</th>\n      <td>2021-01-01</td>\n      <td>종각</td>\n      <td>승차</td>\n      <td>49</td>\n      <td>59</td>\n      <td>89</td>\n      <td>126</td>\n      <td>125</td>\n      <td>113</td>\n      <td>191</td>\n      <td>...</td>\n      <td>548</td>\n      <td>504</td>\n      <td>572</td>\n      <td>492</td>\n      <td>593</td>\n      <td>513</td>\n      <td>130</td>\n      <td>31</td>\n      <td>5686</td>\n      <td>0</td>\n    </tr>\n    <tr>\n      <th>...</th>\n      <td>...</td>\n      <td>...</td>\n      <td>...</td>\n      <td>...</td>\n      <td>...</td>\n      <td>...</td>\n      <td>...</td>\n      <td>...</td>\n      <td>...</td>\n      <td>...</td>\n      <td>...</td>\n      <td>...</td>\n      <td>...</td>\n      <td>...</td>\n      <td>...</td>\n      <td>...</td>\n      <td>...</td>\n      <td>...</td>\n      <td>...</td>\n      <td>...</td>\n      <td>...</td>\n    </tr>\n    <tr>\n      <th>204369</th>\n      <td>2021-12-31</td>\n      <td>수진</td>\n      <td>하차</td>\n      <td>25</td>\n      <td>75</td>\n      <td>96</td>\n      <td>340</td>\n      <td>180</td>\n      <td>179</td>\n      <td>189</td>\n      <td>...</td>\n      <td>389</td>\n      <td>407</td>\n      <td>439</td>\n      <td>317</td>\n      <td>223</td>\n      <td>323</td>\n      <td>204</td>\n      <td>100</td>\n      <td>4605</td>\n      <td>0</td>\n    </tr>\n    <tr>\n      <th>204370</th>\n      <td>2021-12-31</td>\n      <td>모란</td>\n      <td>승차</td>\n      <td>44</td>\n      <td>102</td>\n      <td>279</td>\n      <td>391</td>\n      <td>187</td>\n      <td>178</td>\n      <td>185</td>\n      <td>...</td>\n      <td>393</td>\n      <td>360</td>\n      <td>351</td>\n      <td>206</td>\n      <td>197</td>\n      <td>209</td>\n      <td>90</td>\n      <td>24</td>\n      <td>4328</td>\n      <td>0</td>\n    </tr>\n    <tr>\n      <th>204371</th>\n      <td>2021-12-31</td>\n      <td>모란</td>\n      <td>하차</td>\n      <td>20</td>\n      <td>96</td>\n      <td>120</td>\n      <td>311</td>\n      <td>132</td>\n      <td>143</td>\n      <td>173</td>\n      <td>...</td>\n      <td>290</td>\n      <td>286</td>\n      <td>347</td>\n      <td>176</td>\n      <td>107</td>\n      <td>154</td>\n      <td>96</td>\n      <td>52</td>\n      <td>3402</td>\n      <td>0</td>\n    </tr>\n    <tr>\n      <th>204372</th>\n      <td>2021-12-31</td>\n      <td>남위례</td>\n      <td>승차</td>\n      <td>20</td>\n      <td>83</td>\n      <td>279</td>\n      <td>347</td>\n      <td>138</td>\n      <td>186</td>\n      <td>240</td>\n      <td>...</td>\n      <td>218</td>\n      <td>277</td>\n      <td>184</td>\n      <td>74</td>\n      <td>73</td>\n      <td>95</td>\n      <td>54</td>\n      <td>18</td>\n      <td>3092</td>\n      <td>0</td>\n    </tr>\n    <tr>\n      <th>204373</th>\n      <td>2021-12-31</td>\n      <td>남위례</td>\n      <td>하차</td>\n      <td>10</td>\n      <td>41</td>\n      <td>119</td>\n      <td>375</td>\n      <td>147</td>\n      <td>76</td>\n      <td>112</td>\n      <td>...</td>\n      <td>341</td>\n      <td>322</td>\n      <td>382</td>\n      <td>263</td>\n      <td>145</td>\n      <td>209</td>\n      <td>138</td>\n      <td>34</td>\n      <td>3438</td>\n      <td>0</td>\n    </tr>\n  </tbody>\n</table>\n<p>204374 rows × 24 columns</p>\n</div>"
     },
     "execution_count": 68,
     "metadata": {},
     "output_type": "execute_result"
    }
   ],
   "source": [
    "df_2021.columns ="
   ],
   "metadata": {
    "collapsed": false,
    "pycharm": {
     "name": "#%%\n"
    }
   }
  },
  {
   "cell_type": "code",
   "execution_count": 69,
   "outputs": [
    {
     "data": {
      "text/plain": "Index(['날짜', '역명', '구분', '05~06', '06~07', '07~08', '08~09', '09~10', '10~11',\n       '11~12', '12~13', '13~14', '14~15', '15~16', '16~17', '17~18', '18~19',\n       '19~20', '20~21', '21~22', '22~23', '23~24', '00~01', '합계'],\n      dtype='object')"
     },
     "execution_count": 69,
     "metadata": {},
     "output_type": "execute_result"
    }
   ],
   "source": [
    "df_2020.columns=df"
   ],
   "metadata": {
    "collapsed": false,
    "pycharm": {
     "name": "#%%\n"
    }
   }
  },
  {
   "cell_type": "code",
   "execution_count": 67,
   "outputs": [
    {
     "ename": "KeyError",
     "evalue": "\"['05~06'] not in index\"",
     "output_type": "error",
     "traceback": [
      "\u001B[0;31m---------------------------------------------------------------------------\u001B[0m",
      "\u001B[0;31mKeyError\u001B[0m                                  Traceback (most recent call last)",
      "Cell \u001B[0;32mIn [67], line 1\u001B[0m\n\u001B[0;32m----> 1\u001B[0m df_2021\u001B[38;5;241m.\u001B[39mloc[:,df_2020\u001B[38;5;241m.\u001B[39mcolumns]\n",
      "File \u001B[0;32m/opt/homebrew/Caskroom/miniforge/base/envs/crawling/lib/python3.10/site-packages/pandas/core/indexing.py:1068\u001B[0m, in \u001B[0;36m_LocationIndexer.__getitem__\u001B[0;34m(self, key)\u001B[0m\n\u001B[1;32m   1066\u001B[0m     \u001B[38;5;28;01mif\u001B[39;00m \u001B[38;5;28mself\u001B[39m\u001B[38;5;241m.\u001B[39m_is_scalar_access(key):\n\u001B[1;32m   1067\u001B[0m         \u001B[38;5;28;01mreturn\u001B[39;00m \u001B[38;5;28mself\u001B[39m\u001B[38;5;241m.\u001B[39mobj\u001B[38;5;241m.\u001B[39m_get_value(\u001B[38;5;241m*\u001B[39mkey, takeable\u001B[38;5;241m=\u001B[39m\u001B[38;5;28mself\u001B[39m\u001B[38;5;241m.\u001B[39m_takeable)\n\u001B[0;32m-> 1068\u001B[0m     \u001B[38;5;28;01mreturn\u001B[39;00m \u001B[38;5;28;43mself\u001B[39;49m\u001B[38;5;241;43m.\u001B[39;49m\u001B[43m_getitem_tuple\u001B[49m\u001B[43m(\u001B[49m\u001B[43mkey\u001B[49m\u001B[43m)\u001B[49m\n\u001B[1;32m   1069\u001B[0m \u001B[38;5;28;01melse\u001B[39;00m:\n\u001B[1;32m   1070\u001B[0m     \u001B[38;5;66;03m# we by definition only have the 0th axis\u001B[39;00m\n\u001B[1;32m   1071\u001B[0m     axis \u001B[38;5;241m=\u001B[39m \u001B[38;5;28mself\u001B[39m\u001B[38;5;241m.\u001B[39maxis \u001B[38;5;129;01mor\u001B[39;00m \u001B[38;5;241m0\u001B[39m\n",
      "File \u001B[0;32m/opt/homebrew/Caskroom/miniforge/base/envs/crawling/lib/python3.10/site-packages/pandas/core/indexing.py:1257\u001B[0m, in \u001B[0;36m_LocIndexer._getitem_tuple\u001B[0;34m(self, tup)\u001B[0m\n\u001B[1;32m   1254\u001B[0m \u001B[38;5;28;01mif\u001B[39;00m \u001B[38;5;28mself\u001B[39m\u001B[38;5;241m.\u001B[39m_multi_take_opportunity(tup):\n\u001B[1;32m   1255\u001B[0m     \u001B[38;5;28;01mreturn\u001B[39;00m \u001B[38;5;28mself\u001B[39m\u001B[38;5;241m.\u001B[39m_multi_take(tup)\n\u001B[0;32m-> 1257\u001B[0m \u001B[38;5;28;01mreturn\u001B[39;00m \u001B[38;5;28;43mself\u001B[39;49m\u001B[38;5;241;43m.\u001B[39;49m\u001B[43m_getitem_tuple_same_dim\u001B[49m\u001B[43m(\u001B[49m\u001B[43mtup\u001B[49m\u001B[43m)\u001B[49m\n",
      "File \u001B[0;32m/opt/homebrew/Caskroom/miniforge/base/envs/crawling/lib/python3.10/site-packages/pandas/core/indexing.py:925\u001B[0m, in \u001B[0;36m_LocationIndexer._getitem_tuple_same_dim\u001B[0;34m(self, tup)\u001B[0m\n\u001B[1;32m    922\u001B[0m \u001B[38;5;28;01mif\u001B[39;00m com\u001B[38;5;241m.\u001B[39mis_null_slice(key):\n\u001B[1;32m    923\u001B[0m     \u001B[38;5;28;01mcontinue\u001B[39;00m\n\u001B[0;32m--> 925\u001B[0m retval \u001B[38;5;241m=\u001B[39m \u001B[38;5;28;43mgetattr\u001B[39;49m\u001B[43m(\u001B[49m\u001B[43mretval\u001B[49m\u001B[43m,\u001B[49m\u001B[43m \u001B[49m\u001B[38;5;28;43mself\u001B[39;49m\u001B[38;5;241;43m.\u001B[39;49m\u001B[43mname\u001B[49m\u001B[43m)\u001B[49m\u001B[38;5;241;43m.\u001B[39;49m\u001B[43m_getitem_axis\u001B[49m\u001B[43m(\u001B[49m\u001B[43mkey\u001B[49m\u001B[43m,\u001B[49m\u001B[43m \u001B[49m\u001B[43maxis\u001B[49m\u001B[38;5;241;43m=\u001B[39;49m\u001B[43mi\u001B[49m\u001B[43m)\u001B[49m\n\u001B[1;32m    926\u001B[0m \u001B[38;5;66;03m# We should never have retval.ndim < self.ndim, as that should\u001B[39;00m\n\u001B[1;32m    927\u001B[0m \u001B[38;5;66;03m#  be handled by the _getitem_lowerdim call above.\u001B[39;00m\n\u001B[1;32m    928\u001B[0m \u001B[38;5;28;01massert\u001B[39;00m retval\u001B[38;5;241m.\u001B[39mndim \u001B[38;5;241m==\u001B[39m \u001B[38;5;28mself\u001B[39m\u001B[38;5;241m.\u001B[39mndim\n",
      "File \u001B[0;32m/opt/homebrew/Caskroom/miniforge/base/envs/crawling/lib/python3.10/site-packages/pandas/core/indexing.py:1302\u001B[0m, in \u001B[0;36m_LocIndexer._getitem_axis\u001B[0;34m(self, key, axis)\u001B[0m\n\u001B[1;32m   1299\u001B[0m     \u001B[38;5;28;01mif\u001B[39;00m \u001B[38;5;28mhasattr\u001B[39m(key, \u001B[38;5;124m\"\u001B[39m\u001B[38;5;124mndim\u001B[39m\u001B[38;5;124m\"\u001B[39m) \u001B[38;5;129;01mand\u001B[39;00m key\u001B[38;5;241m.\u001B[39mndim \u001B[38;5;241m>\u001B[39m \u001B[38;5;241m1\u001B[39m:\n\u001B[1;32m   1300\u001B[0m         \u001B[38;5;28;01mraise\u001B[39;00m \u001B[38;5;167;01mValueError\u001B[39;00m(\u001B[38;5;124m\"\u001B[39m\u001B[38;5;124mCannot index with multidimensional key\u001B[39m\u001B[38;5;124m\"\u001B[39m)\n\u001B[0;32m-> 1302\u001B[0m     \u001B[38;5;28;01mreturn\u001B[39;00m \u001B[38;5;28;43mself\u001B[39;49m\u001B[38;5;241;43m.\u001B[39;49m\u001B[43m_getitem_iterable\u001B[49m\u001B[43m(\u001B[49m\u001B[43mkey\u001B[49m\u001B[43m,\u001B[49m\u001B[43m \u001B[49m\u001B[43maxis\u001B[49m\u001B[38;5;241;43m=\u001B[39;49m\u001B[43maxis\u001B[49m\u001B[43m)\u001B[49m\n\u001B[1;32m   1304\u001B[0m \u001B[38;5;66;03m# nested tuple slicing\u001B[39;00m\n\u001B[1;32m   1305\u001B[0m \u001B[38;5;28;01mif\u001B[39;00m is_nested_tuple(key, labels):\n",
      "File \u001B[0;32m/opt/homebrew/Caskroom/miniforge/base/envs/crawling/lib/python3.10/site-packages/pandas/core/indexing.py:1240\u001B[0m, in \u001B[0;36m_LocIndexer._getitem_iterable\u001B[0;34m(self, key, axis)\u001B[0m\n\u001B[1;32m   1237\u001B[0m \u001B[38;5;28mself\u001B[39m\u001B[38;5;241m.\u001B[39m_validate_key(key, axis)\n\u001B[1;32m   1239\u001B[0m \u001B[38;5;66;03m# A collection of keys\u001B[39;00m\n\u001B[0;32m-> 1240\u001B[0m keyarr, indexer \u001B[38;5;241m=\u001B[39m \u001B[38;5;28;43mself\u001B[39;49m\u001B[38;5;241;43m.\u001B[39;49m\u001B[43m_get_listlike_indexer\u001B[49m\u001B[43m(\u001B[49m\u001B[43mkey\u001B[49m\u001B[43m,\u001B[49m\u001B[43m \u001B[49m\u001B[43maxis\u001B[49m\u001B[43m)\u001B[49m\n\u001B[1;32m   1241\u001B[0m \u001B[38;5;28;01mreturn\u001B[39;00m \u001B[38;5;28mself\u001B[39m\u001B[38;5;241m.\u001B[39mobj\u001B[38;5;241m.\u001B[39m_reindex_with_indexers(\n\u001B[1;32m   1242\u001B[0m     {axis: [keyarr, indexer]}, copy\u001B[38;5;241m=\u001B[39m\u001B[38;5;28;01mTrue\u001B[39;00m, allow_dups\u001B[38;5;241m=\u001B[39m\u001B[38;5;28;01mTrue\u001B[39;00m\n\u001B[1;32m   1243\u001B[0m )\n",
      "File \u001B[0;32m/opt/homebrew/Caskroom/miniforge/base/envs/crawling/lib/python3.10/site-packages/pandas/core/indexing.py:1433\u001B[0m, in \u001B[0;36m_LocIndexer._get_listlike_indexer\u001B[0;34m(self, key, axis)\u001B[0m\n\u001B[1;32m   1430\u001B[0m ax \u001B[38;5;241m=\u001B[39m \u001B[38;5;28mself\u001B[39m\u001B[38;5;241m.\u001B[39mobj\u001B[38;5;241m.\u001B[39m_get_axis(axis)\n\u001B[1;32m   1431\u001B[0m axis_name \u001B[38;5;241m=\u001B[39m \u001B[38;5;28mself\u001B[39m\u001B[38;5;241m.\u001B[39mobj\u001B[38;5;241m.\u001B[39m_get_axis_name(axis)\n\u001B[0;32m-> 1433\u001B[0m keyarr, indexer \u001B[38;5;241m=\u001B[39m \u001B[43max\u001B[49m\u001B[38;5;241;43m.\u001B[39;49m\u001B[43m_get_indexer_strict\u001B[49m\u001B[43m(\u001B[49m\u001B[43mkey\u001B[49m\u001B[43m,\u001B[49m\u001B[43m \u001B[49m\u001B[43maxis_name\u001B[49m\u001B[43m)\u001B[49m\n\u001B[1;32m   1435\u001B[0m \u001B[38;5;28;01mreturn\u001B[39;00m keyarr, indexer\n",
      "File \u001B[0;32m/opt/homebrew/Caskroom/miniforge/base/envs/crawling/lib/python3.10/site-packages/pandas/core/indexes/base.py:6108\u001B[0m, in \u001B[0;36mIndex._get_indexer_strict\u001B[0;34m(self, key, axis_name)\u001B[0m\n\u001B[1;32m   6105\u001B[0m \u001B[38;5;28;01melse\u001B[39;00m:\n\u001B[1;32m   6106\u001B[0m     keyarr, indexer, new_indexer \u001B[38;5;241m=\u001B[39m \u001B[38;5;28mself\u001B[39m\u001B[38;5;241m.\u001B[39m_reindex_non_unique(keyarr)\n\u001B[0;32m-> 6108\u001B[0m \u001B[38;5;28;43mself\u001B[39;49m\u001B[38;5;241;43m.\u001B[39;49m\u001B[43m_raise_if_missing\u001B[49m\u001B[43m(\u001B[49m\u001B[43mkeyarr\u001B[49m\u001B[43m,\u001B[49m\u001B[43m \u001B[49m\u001B[43mindexer\u001B[49m\u001B[43m,\u001B[49m\u001B[43m \u001B[49m\u001B[43maxis_name\u001B[49m\u001B[43m)\u001B[49m\n\u001B[1;32m   6110\u001B[0m keyarr \u001B[38;5;241m=\u001B[39m \u001B[38;5;28mself\u001B[39m\u001B[38;5;241m.\u001B[39mtake(indexer)\n\u001B[1;32m   6111\u001B[0m \u001B[38;5;28;01mif\u001B[39;00m \u001B[38;5;28misinstance\u001B[39m(key, Index):\n\u001B[1;32m   6112\u001B[0m     \u001B[38;5;66;03m# GH 42790 - Preserve name from an Index\u001B[39;00m\n",
      "File \u001B[0;32m/opt/homebrew/Caskroom/miniforge/base/envs/crawling/lib/python3.10/site-packages/pandas/core/indexes/base.py:6171\u001B[0m, in \u001B[0;36mIndex._raise_if_missing\u001B[0;34m(self, key, indexer, axis_name)\u001B[0m\n\u001B[1;32m   6168\u001B[0m     \u001B[38;5;28;01mraise\u001B[39;00m \u001B[38;5;167;01mKeyError\u001B[39;00m(\u001B[38;5;124mf\u001B[39m\u001B[38;5;124m\"\u001B[39m\u001B[38;5;124mNone of [\u001B[39m\u001B[38;5;132;01m{\u001B[39;00mkey\u001B[38;5;132;01m}\u001B[39;00m\u001B[38;5;124m] are in the [\u001B[39m\u001B[38;5;132;01m{\u001B[39;00maxis_name\u001B[38;5;132;01m}\u001B[39;00m\u001B[38;5;124m]\u001B[39m\u001B[38;5;124m\"\u001B[39m)\n\u001B[1;32m   6170\u001B[0m not_found \u001B[38;5;241m=\u001B[39m \u001B[38;5;28mlist\u001B[39m(ensure_index(key)[missing_mask\u001B[38;5;241m.\u001B[39mnonzero()[\u001B[38;5;241m0\u001B[39m]]\u001B[38;5;241m.\u001B[39munique())\n\u001B[0;32m-> 6171\u001B[0m \u001B[38;5;28;01mraise\u001B[39;00m \u001B[38;5;167;01mKeyError\u001B[39;00m(\u001B[38;5;124mf\u001B[39m\u001B[38;5;124m\"\u001B[39m\u001B[38;5;132;01m{\u001B[39;00mnot_found\u001B[38;5;132;01m}\u001B[39;00m\u001B[38;5;124m not in index\u001B[39m\u001B[38;5;124m\"\u001B[39m)\n",
      "\u001B[0;31mKeyError\u001B[0m: \"['05~06'] not in index\""
     ]
    }
   ],
   "source": [
    "df_2021.loc[:,df_2020.columns]"
   ],
   "metadata": {
    "collapsed": false,
    "pycharm": {
     "name": "#%%\n"
    }
   }
  },
  {
   "cell_type": "code",
   "execution_count": 70,
   "outputs": [
    {
     "data": {
      "text/plain": "array([ True,  True,  True, False,  True,  True,  True,  True,  True,\n        True,  True,  True,  True,  True,  True,  True,  True,  True,\n        True,  True,  True,  True, False, False])"
     },
     "execution_count": 70,
     "metadata": {},
     "output_type": "execute_result"
    }
   ],
   "source": [
    "df_2021.columns==df_2020.columns"
   ],
   "metadata": {
    "collapsed": false,
    "pycharm": {
     "name": "#%%\n"
    }
   }
  },
  {
   "cell_type": "code",
   "execution_count": 71,
   "outputs": [
    {
     "data": {
      "text/plain": "                날짜   역명  구분  06~07  06~07  07~08  08~09  09~10  10~11  11~12  \\\n0       2021-01-01  서울역  승차     86    111    157    306    333    416    579   \n1       2021-01-01  서울역  하차     85    355    438    592    841    747    625   \n2       2021-01-01   시청  승차     43     45     75    111     95     76    117   \n3       2021-01-01   시청  하차     40    145    176    312    223    189    208   \n4       2021-01-01   종각  승차     49     59     89    126    125    113    191   \n...            ...  ...  ..    ...    ...    ...    ...    ...    ...    ...   \n204369  2021-12-31   수진  하차     25     75     96    340    180    179    189   \n204370  2021-12-31   모란  승차     44    102    279    391    187    178    185   \n204371  2021-12-31   모란  하차     20     96    120    311    132    143    173   \n204372  2021-12-31  남위례  승차     20     83    279    347    138    186    240   \n204373  2021-12-31  남위례  하차     10     41    119    375    147     76    112   \n\n        ...  16~17  17~18  18~19  19~20  20~21  21~22  22~23  23~24    합계  \\\n0       ...    796    839    658    579    479    510    445    101  9339   \n1       ...    710    626    437    425    354    307    134     77  9951   \n2       ...    233    347    294    186    216    204    110     29  2947   \n3       ...    140    152    121     57     54     64     23     17  2700   \n4       ...    548    504    572    492    593    513    130     31  5686   \n...     ...    ...    ...    ...    ...    ...    ...    ...    ...   ...   \n204369  ...    389    407    439    317    223    323    204    100  4605   \n204370  ...    393    360    351    206    197    209     90     24  4328   \n204371  ...    290    286    347    176    107    154     96     52  3402   \n204372  ...    218    277    184     74     73     95     54     18  3092   \n204373  ...    341    322    382    263    145    209    138     34  3438   \n\n        00~01  \n0           0  \n1           0  \n2           0  \n3           0  \n4           0  \n...       ...  \n204369      0  \n204370      0  \n204371      0  \n204372      0  \n204373      0  \n\n[204374 rows x 24 columns]",
      "text/html": "<div>\n<style scoped>\n    .dataframe tbody tr th:only-of-type {\n        vertical-align: middle;\n    }\n\n    .dataframe tbody tr th {\n        vertical-align: top;\n    }\n\n    .dataframe thead th {\n        text-align: right;\n    }\n</style>\n<table border=\"1\" class=\"dataframe\">\n  <thead>\n    <tr style=\"text-align: right;\">\n      <th></th>\n      <th>날짜</th>\n      <th>역명</th>\n      <th>구분</th>\n      <th>06~07</th>\n      <th>06~07</th>\n      <th>07~08</th>\n      <th>08~09</th>\n      <th>09~10</th>\n      <th>10~11</th>\n      <th>11~12</th>\n      <th>...</th>\n      <th>16~17</th>\n      <th>17~18</th>\n      <th>18~19</th>\n      <th>19~20</th>\n      <th>20~21</th>\n      <th>21~22</th>\n      <th>22~23</th>\n      <th>23~24</th>\n      <th>합계</th>\n      <th>00~01</th>\n    </tr>\n  </thead>\n  <tbody>\n    <tr>\n      <th>0</th>\n      <td>2021-01-01</td>\n      <td>서울역</td>\n      <td>승차</td>\n      <td>86</td>\n      <td>111</td>\n      <td>157</td>\n      <td>306</td>\n      <td>333</td>\n      <td>416</td>\n      <td>579</td>\n      <td>...</td>\n      <td>796</td>\n      <td>839</td>\n      <td>658</td>\n      <td>579</td>\n      <td>479</td>\n      <td>510</td>\n      <td>445</td>\n      <td>101</td>\n      <td>9339</td>\n      <td>0</td>\n    </tr>\n    <tr>\n      <th>1</th>\n      <td>2021-01-01</td>\n      <td>서울역</td>\n      <td>하차</td>\n      <td>85</td>\n      <td>355</td>\n      <td>438</td>\n      <td>592</td>\n      <td>841</td>\n      <td>747</td>\n      <td>625</td>\n      <td>...</td>\n      <td>710</td>\n      <td>626</td>\n      <td>437</td>\n      <td>425</td>\n      <td>354</td>\n      <td>307</td>\n      <td>134</td>\n      <td>77</td>\n      <td>9951</td>\n      <td>0</td>\n    </tr>\n    <tr>\n      <th>2</th>\n      <td>2021-01-01</td>\n      <td>시청</td>\n      <td>승차</td>\n      <td>43</td>\n      <td>45</td>\n      <td>75</td>\n      <td>111</td>\n      <td>95</td>\n      <td>76</td>\n      <td>117</td>\n      <td>...</td>\n      <td>233</td>\n      <td>347</td>\n      <td>294</td>\n      <td>186</td>\n      <td>216</td>\n      <td>204</td>\n      <td>110</td>\n      <td>29</td>\n      <td>2947</td>\n      <td>0</td>\n    </tr>\n    <tr>\n      <th>3</th>\n      <td>2021-01-01</td>\n      <td>시청</td>\n      <td>하차</td>\n      <td>40</td>\n      <td>145</td>\n      <td>176</td>\n      <td>312</td>\n      <td>223</td>\n      <td>189</td>\n      <td>208</td>\n      <td>...</td>\n      <td>140</td>\n      <td>152</td>\n      <td>121</td>\n      <td>57</td>\n      <td>54</td>\n      <td>64</td>\n      <td>23</td>\n      <td>17</td>\n      <td>2700</td>\n      <td>0</td>\n    </tr>\n    <tr>\n      <th>4</th>\n      <td>2021-01-01</td>\n      <td>종각</td>\n      <td>승차</td>\n      <td>49</td>\n      <td>59</td>\n      <td>89</td>\n      <td>126</td>\n      <td>125</td>\n      <td>113</td>\n      <td>191</td>\n      <td>...</td>\n      <td>548</td>\n      <td>504</td>\n      <td>572</td>\n      <td>492</td>\n      <td>593</td>\n      <td>513</td>\n      <td>130</td>\n      <td>31</td>\n      <td>5686</td>\n      <td>0</td>\n    </tr>\n    <tr>\n      <th>...</th>\n      <td>...</td>\n      <td>...</td>\n      <td>...</td>\n      <td>...</td>\n      <td>...</td>\n      <td>...</td>\n      <td>...</td>\n      <td>...</td>\n      <td>...</td>\n      <td>...</td>\n      <td>...</td>\n      <td>...</td>\n      <td>...</td>\n      <td>...</td>\n      <td>...</td>\n      <td>...</td>\n      <td>...</td>\n      <td>...</td>\n      <td>...</td>\n      <td>...</td>\n      <td>...</td>\n    </tr>\n    <tr>\n      <th>204369</th>\n      <td>2021-12-31</td>\n      <td>수진</td>\n      <td>하차</td>\n      <td>25</td>\n      <td>75</td>\n      <td>96</td>\n      <td>340</td>\n      <td>180</td>\n      <td>179</td>\n      <td>189</td>\n      <td>...</td>\n      <td>389</td>\n      <td>407</td>\n      <td>439</td>\n      <td>317</td>\n      <td>223</td>\n      <td>323</td>\n      <td>204</td>\n      <td>100</td>\n      <td>4605</td>\n      <td>0</td>\n    </tr>\n    <tr>\n      <th>204370</th>\n      <td>2021-12-31</td>\n      <td>모란</td>\n      <td>승차</td>\n      <td>44</td>\n      <td>102</td>\n      <td>279</td>\n      <td>391</td>\n      <td>187</td>\n      <td>178</td>\n      <td>185</td>\n      <td>...</td>\n      <td>393</td>\n      <td>360</td>\n      <td>351</td>\n      <td>206</td>\n      <td>197</td>\n      <td>209</td>\n      <td>90</td>\n      <td>24</td>\n      <td>4328</td>\n      <td>0</td>\n    </tr>\n    <tr>\n      <th>204371</th>\n      <td>2021-12-31</td>\n      <td>모란</td>\n      <td>하차</td>\n      <td>20</td>\n      <td>96</td>\n      <td>120</td>\n      <td>311</td>\n      <td>132</td>\n      <td>143</td>\n      <td>173</td>\n      <td>...</td>\n      <td>290</td>\n      <td>286</td>\n      <td>347</td>\n      <td>176</td>\n      <td>107</td>\n      <td>154</td>\n      <td>96</td>\n      <td>52</td>\n      <td>3402</td>\n      <td>0</td>\n    </tr>\n    <tr>\n      <th>204372</th>\n      <td>2021-12-31</td>\n      <td>남위례</td>\n      <td>승차</td>\n      <td>20</td>\n      <td>83</td>\n      <td>279</td>\n      <td>347</td>\n      <td>138</td>\n      <td>186</td>\n      <td>240</td>\n      <td>...</td>\n      <td>218</td>\n      <td>277</td>\n      <td>184</td>\n      <td>74</td>\n      <td>73</td>\n      <td>95</td>\n      <td>54</td>\n      <td>18</td>\n      <td>3092</td>\n      <td>0</td>\n    </tr>\n    <tr>\n      <th>204373</th>\n      <td>2021-12-31</td>\n      <td>남위례</td>\n      <td>하차</td>\n      <td>10</td>\n      <td>41</td>\n      <td>119</td>\n      <td>375</td>\n      <td>147</td>\n      <td>76</td>\n      <td>112</td>\n      <td>...</td>\n      <td>341</td>\n      <td>322</td>\n      <td>382</td>\n      <td>263</td>\n      <td>145</td>\n      <td>209</td>\n      <td>138</td>\n      <td>34</td>\n      <td>3438</td>\n      <td>0</td>\n    </tr>\n  </tbody>\n</table>\n<p>204374 rows × 24 columns</p>\n</div>"
     },
     "execution_count": 71,
     "metadata": {},
     "output_type": "execute_result"
    }
   ],
   "source": [
    "df_2021"
   ],
   "metadata": {
    "collapsed": false,
    "pycharm": {
     "name": "#%%\n"
    }
   }
  },
  {
   "cell_type": "code",
   "execution_count": 47,
   "outputs": [
    {
     "data": {
      "text/plain": "'23이후'"
     },
     "execution_count": 47,
     "metadata": {},
     "output_type": "execute_result"
    }
   ],
   "source": [
    "df_2021.columns[21]"
   ],
   "metadata": {
    "collapsed": false,
    "pycharm": {
     "name": "#%%\n"
    }
   }
  },
  {
   "cell_type": "code",
   "execution_count": 87,
   "outputs": [],
   "source": [
    "df_tot=pd.concat([df_2017,df_2018,df_2019,df_2020,df_2021])"
   ],
   "metadata": {
    "collapsed": false,
    "pycharm": {
     "name": "#%%\n"
    }
   }
  },
  {
   "cell_type": "code",
   "execution_count": 73,
   "outputs": [
    {
     "data": {
      "text/plain": "array([ True,  True,  True,  True,  True,  True,  True,  True,  True,\n        True,  True,  True,  True,  True,  True,  True,  True,  True,\n        True,  True,  True,  True,  True,  True])"
     },
     "execution_count": 73,
     "metadata": {},
     "output_type": "execute_result"
    }
   ],
   "source": [
    "df_2017.columns == df_2018.columns"
   ],
   "metadata": {
    "collapsed": false,
    "pycharm": {
     "name": "#%%\n"
    }
   }
  },
  {
   "cell_type": "code",
   "execution_count": 74,
   "outputs": [
    {
     "data": {
      "text/plain": "array([ True,  True,  True,  True,  True,  True,  True,  True,  True,\n        True,  True,  True,  True,  True,  True,  True,  True,  True,\n        True,  True,  True,  True,  True,  True])"
     },
     "execution_count": 74,
     "metadata": {},
     "output_type": "execute_result"
    }
   ],
   "source": [
    "df_2019.columns == df_2020.columns"
   ],
   "metadata": {
    "collapsed": false,
    "pycharm": {
     "name": "#%%\n"
    }
   }
  },
  {
   "cell_type": "code",
   "execution_count": 75,
   "outputs": [
    {
     "data": {
      "text/plain": "array([ True,  True,  True, False,  True,  True,  True,  True,  True,\n        True,  True,  True,  True,  True,  True,  True,  True,  True,\n        True,  True,  True,  True, False, False])"
     },
     "execution_count": 75,
     "metadata": {},
     "output_type": "execute_result"
    }
   ],
   "source": [
    "df_2021.columns == df_2020.columns"
   ],
   "metadata": {
    "collapsed": false,
    "pycharm": {
     "name": "#%%\n"
    }
   }
  },
  {
   "cell_type": "code",
   "execution_count": 78,
   "outputs": [
    {
     "data": {
      "text/plain": "Index(['날짜', '역명', '구분', '06~07', '06~07', '07~08', '08~09', '09~10', '10~11',\n       '11~12', '12~13', '13~14', '14~15', '15~16', '16~17', '17~18', '18~19',\n       '19~20', '20~21', '21~22', '22~23', '23~24', '합계', '00~01'],\n      dtype='object')"
     },
     "execution_count": 78,
     "metadata": {},
     "output_type": "execute_result"
    }
   ],
   "source": [
    "df_2021.columns"
   ],
   "metadata": {
    "collapsed": false,
    "pycharm": {
     "name": "#%%\n"
    }
   }
  },
  {
   "cell_type": "code",
   "execution_count": 77,
   "outputs": [
    {
     "data": {
      "text/plain": "Index(['날짜', '역명', '구분', '05~06', '06~07', '07~08', '08~09', '09~10', '10~11',\n       '11~12', '12~13', '13~14', '14~15', '15~16', '16~17', '17~18', '18~19',\n       '19~20', '20~21', '21~22', '22~23', '23~24', '00~01', '합계'],\n      dtype='object')"
     },
     "execution_count": 77,
     "metadata": {},
     "output_type": "execute_result"
    }
   ],
   "source": [
    "df_2020.columns"
   ],
   "metadata": {
    "collapsed": false,
    "pycharm": {
     "name": "#%%\n"
    }
   }
  },
  {
   "cell_type": "code",
   "execution_count": 80,
   "outputs": [
    {
     "ename": "KeyError",
     "evalue": "\"['05~06'] not in index\"",
     "output_type": "error",
     "traceback": [
      "\u001B[0;31m---------------------------------------------------------------------------\u001B[0m",
      "\u001B[0;31mKeyError\u001B[0m                                  Traceback (most recent call last)",
      "Cell \u001B[0;32mIn [80], line 1\u001B[0m\n\u001B[0;32m----> 1\u001B[0m df_2021\u001B[38;5;241m.\u001B[39mloc[:,df_2020\u001B[38;5;241m.\u001B[39mcolumns]\n",
      "File \u001B[0;32m/opt/homebrew/Caskroom/miniforge/base/envs/crawling/lib/python3.10/site-packages/pandas/core/indexing.py:1068\u001B[0m, in \u001B[0;36m_LocationIndexer.__getitem__\u001B[0;34m(self, key)\u001B[0m\n\u001B[1;32m   1066\u001B[0m     \u001B[38;5;28;01mif\u001B[39;00m \u001B[38;5;28mself\u001B[39m\u001B[38;5;241m.\u001B[39m_is_scalar_access(key):\n\u001B[1;32m   1067\u001B[0m         \u001B[38;5;28;01mreturn\u001B[39;00m \u001B[38;5;28mself\u001B[39m\u001B[38;5;241m.\u001B[39mobj\u001B[38;5;241m.\u001B[39m_get_value(\u001B[38;5;241m*\u001B[39mkey, takeable\u001B[38;5;241m=\u001B[39m\u001B[38;5;28mself\u001B[39m\u001B[38;5;241m.\u001B[39m_takeable)\n\u001B[0;32m-> 1068\u001B[0m     \u001B[38;5;28;01mreturn\u001B[39;00m \u001B[38;5;28;43mself\u001B[39;49m\u001B[38;5;241;43m.\u001B[39;49m\u001B[43m_getitem_tuple\u001B[49m\u001B[43m(\u001B[49m\u001B[43mkey\u001B[49m\u001B[43m)\u001B[49m\n\u001B[1;32m   1069\u001B[0m \u001B[38;5;28;01melse\u001B[39;00m:\n\u001B[1;32m   1070\u001B[0m     \u001B[38;5;66;03m# we by definition only have the 0th axis\u001B[39;00m\n\u001B[1;32m   1071\u001B[0m     axis \u001B[38;5;241m=\u001B[39m \u001B[38;5;28mself\u001B[39m\u001B[38;5;241m.\u001B[39maxis \u001B[38;5;129;01mor\u001B[39;00m \u001B[38;5;241m0\u001B[39m\n",
      "File \u001B[0;32m/opt/homebrew/Caskroom/miniforge/base/envs/crawling/lib/python3.10/site-packages/pandas/core/indexing.py:1257\u001B[0m, in \u001B[0;36m_LocIndexer._getitem_tuple\u001B[0;34m(self, tup)\u001B[0m\n\u001B[1;32m   1254\u001B[0m \u001B[38;5;28;01mif\u001B[39;00m \u001B[38;5;28mself\u001B[39m\u001B[38;5;241m.\u001B[39m_multi_take_opportunity(tup):\n\u001B[1;32m   1255\u001B[0m     \u001B[38;5;28;01mreturn\u001B[39;00m \u001B[38;5;28mself\u001B[39m\u001B[38;5;241m.\u001B[39m_multi_take(tup)\n\u001B[0;32m-> 1257\u001B[0m \u001B[38;5;28;01mreturn\u001B[39;00m \u001B[38;5;28;43mself\u001B[39;49m\u001B[38;5;241;43m.\u001B[39;49m\u001B[43m_getitem_tuple_same_dim\u001B[49m\u001B[43m(\u001B[49m\u001B[43mtup\u001B[49m\u001B[43m)\u001B[49m\n",
      "File \u001B[0;32m/opt/homebrew/Caskroom/miniforge/base/envs/crawling/lib/python3.10/site-packages/pandas/core/indexing.py:925\u001B[0m, in \u001B[0;36m_LocationIndexer._getitem_tuple_same_dim\u001B[0;34m(self, tup)\u001B[0m\n\u001B[1;32m    922\u001B[0m \u001B[38;5;28;01mif\u001B[39;00m com\u001B[38;5;241m.\u001B[39mis_null_slice(key):\n\u001B[1;32m    923\u001B[0m     \u001B[38;5;28;01mcontinue\u001B[39;00m\n\u001B[0;32m--> 925\u001B[0m retval \u001B[38;5;241m=\u001B[39m \u001B[38;5;28;43mgetattr\u001B[39;49m\u001B[43m(\u001B[49m\u001B[43mretval\u001B[49m\u001B[43m,\u001B[49m\u001B[43m \u001B[49m\u001B[38;5;28;43mself\u001B[39;49m\u001B[38;5;241;43m.\u001B[39;49m\u001B[43mname\u001B[49m\u001B[43m)\u001B[49m\u001B[38;5;241;43m.\u001B[39;49m\u001B[43m_getitem_axis\u001B[49m\u001B[43m(\u001B[49m\u001B[43mkey\u001B[49m\u001B[43m,\u001B[49m\u001B[43m \u001B[49m\u001B[43maxis\u001B[49m\u001B[38;5;241;43m=\u001B[39;49m\u001B[43mi\u001B[49m\u001B[43m)\u001B[49m\n\u001B[1;32m    926\u001B[0m \u001B[38;5;66;03m# We should never have retval.ndim < self.ndim, as that should\u001B[39;00m\n\u001B[1;32m    927\u001B[0m \u001B[38;5;66;03m#  be handled by the _getitem_lowerdim call above.\u001B[39;00m\n\u001B[1;32m    928\u001B[0m \u001B[38;5;28;01massert\u001B[39;00m retval\u001B[38;5;241m.\u001B[39mndim \u001B[38;5;241m==\u001B[39m \u001B[38;5;28mself\u001B[39m\u001B[38;5;241m.\u001B[39mndim\n",
      "File \u001B[0;32m/opt/homebrew/Caskroom/miniforge/base/envs/crawling/lib/python3.10/site-packages/pandas/core/indexing.py:1302\u001B[0m, in \u001B[0;36m_LocIndexer._getitem_axis\u001B[0;34m(self, key, axis)\u001B[0m\n\u001B[1;32m   1299\u001B[0m     \u001B[38;5;28;01mif\u001B[39;00m \u001B[38;5;28mhasattr\u001B[39m(key, \u001B[38;5;124m\"\u001B[39m\u001B[38;5;124mndim\u001B[39m\u001B[38;5;124m\"\u001B[39m) \u001B[38;5;129;01mand\u001B[39;00m key\u001B[38;5;241m.\u001B[39mndim \u001B[38;5;241m>\u001B[39m \u001B[38;5;241m1\u001B[39m:\n\u001B[1;32m   1300\u001B[0m         \u001B[38;5;28;01mraise\u001B[39;00m \u001B[38;5;167;01mValueError\u001B[39;00m(\u001B[38;5;124m\"\u001B[39m\u001B[38;5;124mCannot index with multidimensional key\u001B[39m\u001B[38;5;124m\"\u001B[39m)\n\u001B[0;32m-> 1302\u001B[0m     \u001B[38;5;28;01mreturn\u001B[39;00m \u001B[38;5;28;43mself\u001B[39;49m\u001B[38;5;241;43m.\u001B[39;49m\u001B[43m_getitem_iterable\u001B[49m\u001B[43m(\u001B[49m\u001B[43mkey\u001B[49m\u001B[43m,\u001B[49m\u001B[43m \u001B[49m\u001B[43maxis\u001B[49m\u001B[38;5;241;43m=\u001B[39;49m\u001B[43maxis\u001B[49m\u001B[43m)\u001B[49m\n\u001B[1;32m   1304\u001B[0m \u001B[38;5;66;03m# nested tuple slicing\u001B[39;00m\n\u001B[1;32m   1305\u001B[0m \u001B[38;5;28;01mif\u001B[39;00m is_nested_tuple(key, labels):\n",
      "File \u001B[0;32m/opt/homebrew/Caskroom/miniforge/base/envs/crawling/lib/python3.10/site-packages/pandas/core/indexing.py:1240\u001B[0m, in \u001B[0;36m_LocIndexer._getitem_iterable\u001B[0;34m(self, key, axis)\u001B[0m\n\u001B[1;32m   1237\u001B[0m \u001B[38;5;28mself\u001B[39m\u001B[38;5;241m.\u001B[39m_validate_key(key, axis)\n\u001B[1;32m   1239\u001B[0m \u001B[38;5;66;03m# A collection of keys\u001B[39;00m\n\u001B[0;32m-> 1240\u001B[0m keyarr, indexer \u001B[38;5;241m=\u001B[39m \u001B[38;5;28;43mself\u001B[39;49m\u001B[38;5;241;43m.\u001B[39;49m\u001B[43m_get_listlike_indexer\u001B[49m\u001B[43m(\u001B[49m\u001B[43mkey\u001B[49m\u001B[43m,\u001B[49m\u001B[43m \u001B[49m\u001B[43maxis\u001B[49m\u001B[43m)\u001B[49m\n\u001B[1;32m   1241\u001B[0m \u001B[38;5;28;01mreturn\u001B[39;00m \u001B[38;5;28mself\u001B[39m\u001B[38;5;241m.\u001B[39mobj\u001B[38;5;241m.\u001B[39m_reindex_with_indexers(\n\u001B[1;32m   1242\u001B[0m     {axis: [keyarr, indexer]}, copy\u001B[38;5;241m=\u001B[39m\u001B[38;5;28;01mTrue\u001B[39;00m, allow_dups\u001B[38;5;241m=\u001B[39m\u001B[38;5;28;01mTrue\u001B[39;00m\n\u001B[1;32m   1243\u001B[0m )\n",
      "File \u001B[0;32m/opt/homebrew/Caskroom/miniforge/base/envs/crawling/lib/python3.10/site-packages/pandas/core/indexing.py:1433\u001B[0m, in \u001B[0;36m_LocIndexer._get_listlike_indexer\u001B[0;34m(self, key, axis)\u001B[0m\n\u001B[1;32m   1430\u001B[0m ax \u001B[38;5;241m=\u001B[39m \u001B[38;5;28mself\u001B[39m\u001B[38;5;241m.\u001B[39mobj\u001B[38;5;241m.\u001B[39m_get_axis(axis)\n\u001B[1;32m   1431\u001B[0m axis_name \u001B[38;5;241m=\u001B[39m \u001B[38;5;28mself\u001B[39m\u001B[38;5;241m.\u001B[39mobj\u001B[38;5;241m.\u001B[39m_get_axis_name(axis)\n\u001B[0;32m-> 1433\u001B[0m keyarr, indexer \u001B[38;5;241m=\u001B[39m \u001B[43max\u001B[49m\u001B[38;5;241;43m.\u001B[39;49m\u001B[43m_get_indexer_strict\u001B[49m\u001B[43m(\u001B[49m\u001B[43mkey\u001B[49m\u001B[43m,\u001B[49m\u001B[43m \u001B[49m\u001B[43maxis_name\u001B[49m\u001B[43m)\u001B[49m\n\u001B[1;32m   1435\u001B[0m \u001B[38;5;28;01mreturn\u001B[39;00m keyarr, indexer\n",
      "File \u001B[0;32m/opt/homebrew/Caskroom/miniforge/base/envs/crawling/lib/python3.10/site-packages/pandas/core/indexes/base.py:6108\u001B[0m, in \u001B[0;36mIndex._get_indexer_strict\u001B[0;34m(self, key, axis_name)\u001B[0m\n\u001B[1;32m   6105\u001B[0m \u001B[38;5;28;01melse\u001B[39;00m:\n\u001B[1;32m   6106\u001B[0m     keyarr, indexer, new_indexer \u001B[38;5;241m=\u001B[39m \u001B[38;5;28mself\u001B[39m\u001B[38;5;241m.\u001B[39m_reindex_non_unique(keyarr)\n\u001B[0;32m-> 6108\u001B[0m \u001B[38;5;28;43mself\u001B[39;49m\u001B[38;5;241;43m.\u001B[39;49m\u001B[43m_raise_if_missing\u001B[49m\u001B[43m(\u001B[49m\u001B[43mkeyarr\u001B[49m\u001B[43m,\u001B[49m\u001B[43m \u001B[49m\u001B[43mindexer\u001B[49m\u001B[43m,\u001B[49m\u001B[43m \u001B[49m\u001B[43maxis_name\u001B[49m\u001B[43m)\u001B[49m\n\u001B[1;32m   6110\u001B[0m keyarr \u001B[38;5;241m=\u001B[39m \u001B[38;5;28mself\u001B[39m\u001B[38;5;241m.\u001B[39mtake(indexer)\n\u001B[1;32m   6111\u001B[0m \u001B[38;5;28;01mif\u001B[39;00m \u001B[38;5;28misinstance\u001B[39m(key, Index):\n\u001B[1;32m   6112\u001B[0m     \u001B[38;5;66;03m# GH 42790 - Preserve name from an Index\u001B[39;00m\n",
      "File \u001B[0;32m/opt/homebrew/Caskroom/miniforge/base/envs/crawling/lib/python3.10/site-packages/pandas/core/indexes/base.py:6171\u001B[0m, in \u001B[0;36mIndex._raise_if_missing\u001B[0;34m(self, key, indexer, axis_name)\u001B[0m\n\u001B[1;32m   6168\u001B[0m     \u001B[38;5;28;01mraise\u001B[39;00m \u001B[38;5;167;01mKeyError\u001B[39;00m(\u001B[38;5;124mf\u001B[39m\u001B[38;5;124m\"\u001B[39m\u001B[38;5;124mNone of [\u001B[39m\u001B[38;5;132;01m{\u001B[39;00mkey\u001B[38;5;132;01m}\u001B[39;00m\u001B[38;5;124m] are in the [\u001B[39m\u001B[38;5;132;01m{\u001B[39;00maxis_name\u001B[38;5;132;01m}\u001B[39;00m\u001B[38;5;124m]\u001B[39m\u001B[38;5;124m\"\u001B[39m)\n\u001B[1;32m   6170\u001B[0m not_found \u001B[38;5;241m=\u001B[39m \u001B[38;5;28mlist\u001B[39m(ensure_index(key)[missing_mask\u001B[38;5;241m.\u001B[39mnonzero()[\u001B[38;5;241m0\u001B[39m]]\u001B[38;5;241m.\u001B[39munique())\n\u001B[0;32m-> 6171\u001B[0m \u001B[38;5;28;01mraise\u001B[39;00m \u001B[38;5;167;01mKeyError\u001B[39;00m(\u001B[38;5;124mf\u001B[39m\u001B[38;5;124m\"\u001B[39m\u001B[38;5;132;01m{\u001B[39;00mnot_found\u001B[38;5;132;01m}\u001B[39;00m\u001B[38;5;124m not in index\u001B[39m\u001B[38;5;124m\"\u001B[39m)\n",
      "\u001B[0;31mKeyError\u001B[0m: \"['05~06'] not in index\""
     ]
    }
   ],
   "source": [
    "df_2021.loc[:,df_2020.columns]"
   ],
   "metadata": {
    "collapsed": false,
    "pycharm": {
     "name": "#%%\n"
    }
   }
  },
  {
   "cell_type": "code",
   "execution_count": 82,
   "outputs": [
    {
     "data": {
      "text/plain": "Index(['날짜', '역명', '구분', '06~07', '06~07', '07~08', '08~09', '09~10', '10~11',\n       '11~12', '12~13', '13~14', '14~15', '15~16', '16~17', '17~18', '18~19',\n       '19~20', '20~21', '21~22', '22~23', '23~24', '합계', '00~01'],\n      dtype='object')"
     },
     "execution_count": 82,
     "metadata": {},
     "output_type": "execute_result"
    }
   ],
   "source": [
    "df_2021.columns"
   ],
   "metadata": {
    "collapsed": false,
    "pycharm": {
     "name": "#%%\n"
    }
   }
  },
  {
   "cell_type": "code",
   "execution_count": null,
   "outputs": [],
   "source": [
    "['날짜', '역명', '구분', '05~06', '06~07', '07~08', '08~09', '09~10', '10~11',\n",
    "       '11~12', '12~13', '13~14', '14~15', '15~16', '16~17', '17~18', '18~19',\n",
    "       '19~20', '20~21', '21~22', '22~23', '23~24', '00~01','합계']"
   ],
   "metadata": {
    "collapsed": false,
    "pycharm": {
     "name": "#%%\n"
    }
   }
  },
  {
   "cell_type": "code",
   "execution_count": 83,
   "outputs": [],
   "source": [
    "df_2021.columns=['날짜', '역명', '구분', '05~06', '06~07', '07~08', '08~09', '09~10', '10~11',\n",
    "       '11~12', '12~13', '13~14', '14~15', '15~16', '16~17', '17~18', '18~19',\n",
    "       '19~20', '20~21', '21~22', '22~23', '23~24','합계','00~01']"
   ],
   "metadata": {
    "collapsed": false,
    "pycharm": {
     "name": "#%%\n"
    }
   }
  },
  {
   "cell_type": "code",
   "execution_count": 85,
   "outputs": [],
   "source": [
    "df_2021=df_2021.loc[:,['날짜', '역명', '구분', '05~06', '06~07', '07~08', '08~09', '09~10', '10~11',\n",
    "       '11~12', '12~13', '13~14', '14~15', '15~16', '16~17', '17~18', '18~19',\n",
    "       '19~20', '20~21', '21~22', '22~23', '23~24','00~01','합계']]"
   ],
   "metadata": {
    "collapsed": false,
    "pycharm": {
     "name": "#%%\n"
    }
   }
  },
  {
   "cell_type": "code",
   "execution_count": 88,
   "outputs": [],
   "source": [
    "df_tot.to_csv('../raw_data/seoul_metro_raw/merged_raw_metro.csv')"
   ],
   "metadata": {
    "collapsed": false,
    "pycharm": {
     "name": "#%%\n"
    }
   }
  },
  {
   "cell_type": "code",
   "execution_count": null,
   "outputs": [],
   "source": [],
   "metadata": {
    "collapsed": false,
    "pycharm": {
     "name": "#%%\n"
    }
   }
  }
 ],
 "metadata": {
  "kernelspec": {
   "display_name": "Python 3",
   "language": "python",
   "name": "python3"
  },
  "language_info": {
   "codemirror_mode": {
    "name": "ipython",
    "version": 2
   },
   "file_extension": ".py",
   "mimetype": "text/x-python",
   "name": "python",
   "nbconvert_exporter": "python",
   "pygments_lexer": "ipython2",
   "version": "2.7.6"
  }
 },
 "nbformat": 4,
 "nbformat_minor": 0
}