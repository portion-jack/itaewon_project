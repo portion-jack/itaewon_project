{
 "cells": [
  {
   "cell_type": "code",
   "execution_count": 1,
   "metadata": {
    "pycharm": {
     "name": "#%%\n"
    }
   },
   "outputs": [],
   "source": [
    "import glob\n",
    "import pandas as pd\n",
    "import matplotlib.pyplot as plt\n",
    "\n",
    "plt.rc('font',family='AppleGothic')\n",
    "plt.rcParams['axes.unicode_minus'] = False"
   ]
  },
  {
   "cell_type": "code",
   "execution_count": 2,
   "metadata": {
    "pycharm": {
     "name": "#%%\n"
    }
   },
   "outputs": [],
   "source": [
    "seoul_metro_list=sorted(glob.glob('../raw_data/seoul_metro_raw/*.csv'))"
   ]
  },
  {
   "cell_type": "code",
   "execution_count": 3,
   "metadata": {
    "pycharm": {
     "name": "#%%\n"
    }
   },
   "outputs": [
    {
     "data": {
      "text/plain": "['../raw_data/seoul_metro_raw/서울교통공사 2017년 일별 역별 시간대별 승하차인원(1_8호선).csv',\n '../raw_data/seoul_metro_raw/서울교통공사 2018년 일별 역별 시간대별 승하차인원(1_8호선).csv',\n '../raw_data/seoul_metro_raw/서울교통공사 2019년 일별 역별 시간대별 승하차인원(1_8호선).csv',\n '../raw_data/seoul_metro_raw/서울교통공사 2020년 일별 역별 시간대별 승하차인원(1_8호선).csv',\n '../raw_data/seoul_metro_raw/서울교통공사 2021년 일별 역별 시간대별 승하차인원(1_8호선).csv',\n '../raw_data/seoul_metro_raw/서울시 행정동별 지하철 총 승차 승객수 정보.csv',\n '../raw_data/seoul_metro_raw/서울지하철mapper.csv']"
     },
     "execution_count": 3,
     "metadata": {},
     "output_type": "execute_result"
    }
   ],
   "source": [
    "seoul_metro_list"
   ]
  },
  {
   "cell_type": "code",
   "execution_count": 12,
   "metadata": {
    "pycharm": {
     "name": "#%%\n"
    }
   },
   "outputs": [
    {
     "name": "stderr",
     "output_type": "stream",
     "text": [
      "/var/folders/r1/58cpj4hx7j75vx_3j1y6vpvw0000gn/T/ipykernel_71286/3061512531.py:2: DtypeWarning: Columns (6,7,8,9,10,11,12,13,14,15,16,17,18,19,20,21,22,23,24,25) have mixed types. Specify dtype option on import or set low_memory=False.\n",
      "  df=pd.read_csv(seoul_metro_list[0])\n"
     ]
    }
   ],
   "source": [
    "# try     df=pd.read_csv(seoul_metro_list[0])\n",
    "# except     df=pd.read_csv(seoul_metro_list[0],encoding='cp949')"
   ]
  },
  {
   "cell_type": "code",
   "execution_count": 4,
   "metadata": {
    "pycharm": {
     "name": "#%%\n"
    }
   },
   "outputs": [],
   "source": [
    "# 2017\n",
    "df=pd.read_csv(seoul_metro_list[0],thousands=',')\n",
    "df['날짜']=df['날짜'].apply(lambda x.replace('/','~'))"
   ]
  },
  {
   "cell_type": "code",
   "execution_count": 6,
   "metadata": {
    "pycharm": {
     "name": "#%%\n"
    }
   },
   "outputs": [],
   "source": [
    "df.drop(['구분','호선','역번호'],axis=1,inplace=True)\n",
    "df.rename(columns={'구분.1'분'},inplace=True)"
   ]
  },
  {
   "cell_type": "code",
   "execution_count": 12,
   "outputs": [],
   "source": [
    "columns=df.columns\n",
    "df.columns=[i.replace(' ','') for i in columns]"
   ],
   "metadata": {
    "collapsed": false,
    "pycharm": {
     "name": "#%%\n"
    }
   }
  },
  {
   "cell_type": "code",
   "execution_count": 14,
   "outputs": [],
   "source": [
    "df.to_csv('../raw_data/seoul_metro_raw/pp_2017.csv')"
   ],
   "metadata": {
    "collapsed": false,
    "pycharm": {
     "name": "#%%\n"
    }
   }
  },
  {
   "cell_type": "code",
   "execution_count": 17,
   "outputs": [],
   "source": [
    "# 2018\n",
    "df=pd.read_csv(seoul_metro_list[1],thousands=',')\n",
    "df['날짜']=df['날짜'].apply(lambda x.replace('/','-'))"
   ],
   "metadata": {
    "collapsed": false,
    "pycharm": {
     "name": "#%%\n"
    }
   }
  },
  {
   "cell_type": "code",
   "execution_count": 19,
   "outputs": [],
   "source": [
    "df.drop(['호선','역번호'],axis=1,inplace=True)\n",
    "\n",
    "columns=df.columns\n",
    "df.columns=[i.replace(' ','') for i in columns]"
   ],
   "metadata": {
    "collapsed": false,
    "pycharm": {
     "name": "#%%\n"
    }
   }
  },
  {
   "cell_type": "code",
   "execution_count": 23,
   "outputs": [],
   "source": [
    "df.to_csv('../raw_data/seoul_metro_raw/pp_2018.csv')"
   ],
   "metadata": {
    "collapsed": false,
    "pycharm": {
     "name": "#%%\n"
    }
   }
  },
  {
   "cell_type": "code",
   "execution_count": 24,
   "outputs": [],
   "source": [
    "# 2019\n",
    "df=pd.read_csv(seoul_metro_list[2],thousands=',')\n",
    "df['날짜']=df['날짜'].apply(lambda x.replace('/','~'))"
   ],
   "metadata": {
    "collapsed": false,
    "pycharm": {
     "name": "#%%\n"
    }
   }
  },
  {
   "cell_type": "code",
   "execution_count": 26,
   "outputs": [],
   "source": [
    "df.drop(['호선','역번호'],axis=1,inplace=True)\n",
    "columns=df.columns\n",
    "df.columns=[i.replace(' ','') for i in columns]"
   ],
   "metadata": {
    "collapsed": false,
    "pycharm": {
     "name": "#%%\n"
    }
   }
  },
  {
   "cell_type": "code",
   "execution_count": 28,
   "outputs": [],
   "source": [
    "df.to_csv('../raw_data/seoul_metro_raw/pp_2019.csv')"
   ],
   "metadata": {
    "collapsed": false,
    "pycharm": {
     "name": "#%%\n"
    }
   }
  },
  {
   "cell_type": "code",
   "execution_count": 30,
   "outputs": [],
   "source": [
    "# 2020\n",
    "df=pd.read_csv(seoul_metro_list[3],thousands=',',encoding='cp949')\n",
    "df['날짜']=df['날짜'].apply(lambda x : x.replace('/','-'))"
   ],
   "metadata": {
    "collapsed": false,
    "pycharm": {
     "name": "#%%\n"
    }
   }
  },
  {
   "cell_type": "code",
   "execution_count": 35,
   "outputs": [],
   "source": [
    "df.drop(['호선','역번호'],axis=1,inplace=True)\n",
    "columns=df.columns\n",
    "df.columns=[i.replace(' ','') for i in columns]"
   ],
   "metadata": {
    "collapsed": false,
    "pycharm": {
     "name": "#%%\n"
    }
   }
  },
  {
   "cell_type": "code",
   "execution_count": 37,
   "outputs": [],
   "source": [
    "df.columns=['날짜', '역명', '구분', '06이전', '06~07', '07~08',\n",
    "       '08~09', '09~10', '10~11', '11~12',\n",
    "       '12~13', '13~14', '14~15', '15~16',\n",
    "       '16~17', '17~18', '18~19', '19~20',\n",
    "       '20~21', '21~22', '22~23', '23~24', '24이후']"
   ],
   "metadata": {
    "collapsed": false,
    "pycharm": {
     "name": "#%%\n"
    }
   }
  },
  {
   "cell_type": "code",
   "execution_count": 39,
   "outputs": [],
   "source": [
    "df.to_csv('../raw_data/seoul_metro_raw/pp_2020.csv')"
   ],
   "metadata": {
    "collapsed": false,
    "pycharm": {
     "name": "#%%\n"
    }
   }
  },
  {
   "cell_type": "code",
   "execution_count": 45,
   "outputs": [],
   "source": [
    "# 2021\n",
    "df=pd.read_csv(seoul_metro_list[4],thousands=',',encoding='cp949')\n",
    "df['날짜']=df['날짜'].apply(lambda x : x.replace('/','-'))"
   ],
   "metadata": {
    "collapsed": false,
    "pycharm": {
     "name": "#%%\n"
    }
   }
  },
  {
   "cell_type": "code",
   "execution_count": 47,
   "outputs": [],
   "source": [
    "df.drop(['호선','역번호'],axis=1,inplace=True)\n",
    "columns=df.columns\n",
    "df.columns=[i.replace(' ','') for i in columns]"
   ],
   "metadata": {
    "collapsed": false,
    "pycharm": {
     "name": "#%%\n"
    }
   }
  },
  {
   "cell_type": "code",
   "execution_count": 50,
   "outputs": [],
   "source": [
    "df.columns=['연번', '날짜', '역명', '구분', '06이전', '06~07', '07~08', '08~09',\n",
    "       '09~10', '10~11', '11~12', '12~13', '13~14', '14~15',\n",
    "       '15~16', '16~17', '17~18', '18~19', '19~20', '20~21',\n",
    "       '21~22', '22~23', '23이후', '합계']"
   ],
   "metadata": {
    "collapsed": false,
    "pycharm": {
     "name": "#%%\n"
    }
   }
  },
  {
   "cell_type": "code",
   "execution_count": 52,
   "outputs": [],
   "source": [
    "df.to_csv('../raw_data/seoul_metro_raw/pp_2021.csv')"
   ],
   "metadata": {
    "collapsed": false,
    "pycharm": {
     "name": "#%%\n"
    }
   }
  },
  {
   "cell_type": "code",
   "execution_count": null,
   "outputs": [],
   "source": [],
   "metadata": {
    "collapsed": false,
    "pycharm": {
     "name": "#%%\n"
    }
   }
  }
 ],
 "metadata": {
  "kernelspec": {
   "display_name": "Python 3.10.6 ('crawling')",
   "language": "python",
   "name": "python3"
  },
  "language_info": {
   "codemirror_mode": {
    "name": "ipython",
    "version": 3
   },
   "file_extension": ".py",
   "mimetype": "text/x-python",
   "name": "python",
   "nbconvert_exporter": "python",
   "pygments_lexer": "ipython3",
   "version": "3.10.6"
  },
  "orig_nbformat": 4,
  "vscode": {
   "interpreter": {
    "hash": "10621530bc52bc3dcaea48e2b7ef028942e35d2e6e9c9234a88fefd069caf90f"
   }
  }
 },
 "nbformat": 4,
 "nbformat_minor": 2
}