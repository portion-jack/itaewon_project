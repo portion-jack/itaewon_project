{
 "cells": [
  {
   "cell_type": "code",
   "execution_count": 1,
   "metadata": {
    "collapsed": true,
    "pycharm": {
     "name": "#%%\n"
    }
   },
   "outputs": [],
   "source": [
    "import pandas as pd"
   ]
  },
  {
   "cell_type": "code",
   "execution_count": 9,
   "outputs": [],
   "source": [
    "import glob"
   ],
   "metadata": {
    "collapsed": false,
    "pycharm": {
     "name": "#%%\n"
    }
   }
  },
  {
   "cell_type": "code",
   "execution_count": 14,
   "outputs": [],
   "source": [
    "preprocessed_data_list=sorted(glob.glob('../raw_data/seoul_metro_raw/*.csv'))[:4]"
   ],
   "metadata": {
    "collapsed": false,
    "pycharm": {
     "name": "#%%\n"
    }
   }
  },
  {
   "cell_type": "code",
   "execution_count": 21,
   "outputs": [],
   "source": [
    "df_2017=pd.read_csv(preprocessed_data_list[0],index_col=0)\n",
    "df_2018=pd.read_csv(preprocessed_data_list[1],index_col=0)\n",
    "df_2019=pd.read_csv(preprocessed_data_list[2],index_col=0)\n",
    "df_2020=pd.read_csv(preprocessed_data_list[3],index_col=0)"
   ],
   "metadata": {
    "collapsed": false,
    "pycharm": {
     "name": "#%%\n"
    }
   }
  },
  {
   "cell_type": "code",
   "execution_count": 57,
   "outputs": [
    {
     "data": {
      "text/plain": "'06이전'"
     },
     "execution_count": 57,
     "metadata": {},
     "output_type": "execute_result"
    }
   ],
   "source": [
    "list(df_2020.columns)[3]"
   ],
   "metadata": {
    "collapsed": false,
    "pycharm": {
     "name": "#%%\n"
    }
   }
  },
  {
   "cell_type": "code",
   "execution_count": 56,
   "outputs": [
    {
     "data": {
      "text/plain": "'05~06'"
     },
     "execution_count": 56,
     "metadata": {},
     "output_type": "execute_result"
    }
   ],
   "source": [
    "list(df_2017.columns)[3]"
   ],
   "metadata": {
    "collapsed": false,
    "pycharm": {
     "name": "#%%\n"
    }
   }
  },
  {
   "cell_type": "code",
   "execution_count": 58,
   "outputs": [],
   "source": [
    "df_2020.rename(columns={'06이전':'05~06','24이후':'00~01'},inplace=True)"
   ],
   "metadata": {
    "collapsed": false,
    "pycharm": {
     "name": "#%%\n"
    }
   }
  },
  {
   "cell_type": "code",
   "execution_count": null,
   "outputs": [],
   "source": [],
   "metadata": {
    "collapsed": false,
    "pycharm": {
     "name": "#%%\n"
    }
   }
  },
  {
   "cell_type": "code",
   "execution_count": 59,
   "outputs": [
    {
     "data": {
      "text/plain": "array([ True,  True,  True,  True,  True,  True,  True,  True,  True,\n        True,  True,  True,  True,  True,  True,  True,  True,  True,\n        True,  True,  True,  True,  True,  True])"
     },
     "execution_count": 59,
     "metadata": {},
     "output_type": "execute_result"
    }
   ],
   "source": [
    "df_2017.columns == df_2020.columns"
   ],
   "metadata": {
    "collapsed": false,
    "pycharm": {
     "name": "#%%\n"
    }
   }
  },
  {
   "cell_type": "code",
   "execution_count": 62,
   "outputs": [],
   "source": [
    "df_tot=pd.concat([df_2017,df_2018,df_2019,df_2020])"
   ],
   "metadata": {
    "collapsed": false,
    "pycharm": {
     "name": "#%%\n"
    }
   }
  },
  {
   "cell_type": "code",
   "execution_count": 67,
   "outputs": [],
   "source": [
    "df_tot=df_tot.set_index('날짜')"
   ],
   "metadata": {
    "collapsed": false,
    "pycharm": {
     "name": "#%%\n"
    }
   }
  },
  {
   "cell_type": "code",
   "execution_count": 69,
   "outputs": [
    {
     "data": {
      "text/plain": "Index(['2017-01-01', '2017-01-01', '2017-01-01', '2017-01-01', '2017-01-01',\n       '2017-01-01', '2017-01-01', '2017-01-01', '2017-01-01', '2017-01-01',\n       ...\n       '2020-12-31', '2020-12-31', '2020-12-31', '2020-12-31', '2020-12-31',\n       '2020-12-31', '2020-12-31', '2020-12-31', '2020-12-31', '2020-12-31'],\n      dtype='object', name='날짜', length=804584)"
     },
     "execution_count": 69,
     "metadata": {},
     "output_type": "execute_result"
    }
   ],
   "source": [
    "df_tot.index"
   ],
   "metadata": {
    "collapsed": false,
    "pycharm": {
     "name": "#%%\n"
    }
   }
  },
  {
   "cell_type": "code",
   "execution_count": 71,
   "outputs": [],
   "source": [
    "df_tot.index=pd.to_datetime(df_tot.index,format='%Y-%m-%d')"
   ],
   "metadata": {
    "collapsed": false,
    "pycharm": {
     "name": "#%%\n"
    }
   }
  },
  {
   "cell_type": "code",
   "execution_count": 73,
   "outputs": [],
   "source": [
    "df_tot.to_csv('../raw_data/seoul_metro_raw/merged_raw_metro.csv')"
   ],
   "metadata": {
    "collapsed": false,
    "pycharm": {
     "name": "#%%\n"
    }
   }
  },
  {
   "cell_type": "code",
   "execution_count": 136,
   "outputs": [],
   "source": [
    "df_tot_raw = df_tot.copy()"
   ],
   "metadata": {
    "collapsed": false,
    "pycharm": {
     "name": "#%%\n"
    }
   }
  },
  {
   "cell_type": "code",
   "execution_count": 137,
   "outputs": [],
   "source": [
    "temp=df_tot[df_tot['구분']=='하차']"
   ],
   "metadata": {
    "collapsed": false,
    "pycharm": {
     "name": "#%%\n"
    }
   }
  },
  {
   "cell_type": "code",
   "execution_count": 138,
   "outputs": [
    {
     "name": "stderr",
     "output_type": "stream",
     "text": [
      "/var/folders/r1/58cpj4hx7j75vx_3j1y6vpvw0000gn/T/ipykernel_1075/727034372.py:1: SettingWithCopyWarning: \n",
      "A value is trying to be set on a copy of a slice from a DataFrame\n",
      "\n",
      "See the caveats in the documentation: https://pandas.pydata.org/pandas-docs/stable/user_guide/indexing.html#returning-a-view-versus-a-copy\n",
      "  temp.drop('구분',axis=1,inplace=True)\n"
     ]
    }
   ],
   "source": [
    "temp.drop('구분',axis=1,inplace=True)"
   ],
   "metadata": {
    "collapsed": false,
    "pycharm": {
     "name": "#%%\n"
    }
   }
  },
  {
   "cell_type": "code",
   "execution_count": 141,
   "outputs": [
    {
     "data": {
      "text/plain": "                          역명  05~06  06~07  07~08  08~09  09~10  10~11  11~12  \\\n날짜                                                                              \n2017-01-01               서울역    278    880    859    964   1407   1622   1681   \n2017-01-01                시청     73    203    314    483    669    611    668   \n2017-01-01                종각     61    184    254    676   1031    992   1084   \n2017-01-01              종로3가     55    135    165    312    610    967   1275   \n2017-01-01              종로5가     18     76    127    277    460    590    780   \n...                      ...    ...    ...    ...    ...    ...    ...    ...   \n2020-12-31  남한산성입구(성남법원.검찰청)     47    128    296    672    303    226    256   \n2020-12-31             단대오거리     70    205    308    520    274    183    212   \n2020-12-31                신흥     31     95     78    211    145    165    166   \n2020-12-31                수진     15     70     92    227    190    166    155   \n2020-12-31                모란     15     59    111    181    142    109    125   \n\n            12~13  13~14  ...  16~17  17~18  18~19  19~20  20~21  21~22  \\\n날짜                        ...                                             \n2017-01-01   2070   2345  ...   2743   3074   2492   2120   1798   1618   \n2017-01-01    731    689  ...    523    483    392    287    257    189   \n2017-01-01   1406   1670  ...   1406   1265   1027    694    426    313   \n2017-01-01   1677   2098  ...   1118    968    740    494    289    296   \n2017-01-01   1014   1027  ...    758    666    538    294    246    221   \n...           ...    ...  ...    ...    ...    ...    ...    ...    ...   \n2020-12-31    351    395  ...    745    849   1116    874    548    562   \n2020-12-31    300    327  ...    573    761    860    660    458    432   \n2020-12-31    164    221  ...    341    381    428    292    229    219   \n2020-12-31    149    273  ...    309    300    372    296    232    202   \n2020-12-31    126    199  ...    183    228    183    162     71     99   \n\n            22~23  23~24  00~01     합계  \n날짜                                      \n2017-01-01    962    551    179  32931  \n2017-01-01    157    122     32   8296  \n2017-01-01    243    145     33  16016  \n2017-01-01    215    165     59  15087  \n2017-01-01    176    108     24   9178  \n...           ...    ...    ...    ...  \n2020-12-31    275    154      0   8932  \n2020-12-31    237    121      0   7435  \n2020-12-31     85     42      0   3920  \n2020-12-31    127     45      0   3754  \n2020-12-31     39     25      3   2405  \n\n[402292 rows x 22 columns]",
      "text/html": "<div>\n<style scoped>\n    .dataframe tbody tr th:only-of-type {\n        vertical-align: middle;\n    }\n\n    .dataframe tbody tr th {\n        vertical-align: top;\n    }\n\n    .dataframe thead th {\n        text-align: right;\n    }\n</style>\n<table border=\"1\" class=\"dataframe\">\n  <thead>\n    <tr style=\"text-align: right;\">\n      <th></th>\n      <th>역명</th>\n      <th>05~06</th>\n      <th>06~07</th>\n      <th>07~08</th>\n      <th>08~09</th>\n      <th>09~10</th>\n      <th>10~11</th>\n      <th>11~12</th>\n      <th>12~13</th>\n      <th>13~14</th>\n      <th>...</th>\n      <th>16~17</th>\n      <th>17~18</th>\n      <th>18~19</th>\n      <th>19~20</th>\n      <th>20~21</th>\n      <th>21~22</th>\n      <th>22~23</th>\n      <th>23~24</th>\n      <th>00~01</th>\n      <th>합계</th>\n    </tr>\n    <tr>\n      <th>날짜</th>\n      <th></th>\n      <th></th>\n      <th></th>\n      <th></th>\n      <th></th>\n      <th></th>\n      <th></th>\n      <th></th>\n      <th></th>\n      <th></th>\n      <th></th>\n      <th></th>\n      <th></th>\n      <th></th>\n      <th></th>\n      <th></th>\n      <th></th>\n      <th></th>\n      <th></th>\n      <th></th>\n      <th></th>\n    </tr>\n  </thead>\n  <tbody>\n    <tr>\n      <th>2017-01-01</th>\n      <td>서울역</td>\n      <td>278</td>\n      <td>880</td>\n      <td>859</td>\n      <td>964</td>\n      <td>1407</td>\n      <td>1622</td>\n      <td>1681</td>\n      <td>2070</td>\n      <td>2345</td>\n      <td>...</td>\n      <td>2743</td>\n      <td>3074</td>\n      <td>2492</td>\n      <td>2120</td>\n      <td>1798</td>\n      <td>1618</td>\n      <td>962</td>\n      <td>551</td>\n      <td>179</td>\n      <td>32931</td>\n    </tr>\n    <tr>\n      <th>2017-01-01</th>\n      <td>시청</td>\n      <td>73</td>\n      <td>203</td>\n      <td>314</td>\n      <td>483</td>\n      <td>669</td>\n      <td>611</td>\n      <td>668</td>\n      <td>731</td>\n      <td>689</td>\n      <td>...</td>\n      <td>523</td>\n      <td>483</td>\n      <td>392</td>\n      <td>287</td>\n      <td>257</td>\n      <td>189</td>\n      <td>157</td>\n      <td>122</td>\n      <td>32</td>\n      <td>8296</td>\n    </tr>\n    <tr>\n      <th>2017-01-01</th>\n      <td>종각</td>\n      <td>61</td>\n      <td>184</td>\n      <td>254</td>\n      <td>676</td>\n      <td>1031</td>\n      <td>992</td>\n      <td>1084</td>\n      <td>1406</td>\n      <td>1670</td>\n      <td>...</td>\n      <td>1406</td>\n      <td>1265</td>\n      <td>1027</td>\n      <td>694</td>\n      <td>426</td>\n      <td>313</td>\n      <td>243</td>\n      <td>145</td>\n      <td>33</td>\n      <td>16016</td>\n    </tr>\n    <tr>\n      <th>2017-01-01</th>\n      <td>종로3가</td>\n      <td>55</td>\n      <td>135</td>\n      <td>165</td>\n      <td>312</td>\n      <td>610</td>\n      <td>967</td>\n      <td>1275</td>\n      <td>1677</td>\n      <td>2098</td>\n      <td>...</td>\n      <td>1118</td>\n      <td>968</td>\n      <td>740</td>\n      <td>494</td>\n      <td>289</td>\n      <td>296</td>\n      <td>215</td>\n      <td>165</td>\n      <td>59</td>\n      <td>15087</td>\n    </tr>\n    <tr>\n      <th>2017-01-01</th>\n      <td>종로5가</td>\n      <td>18</td>\n      <td>76</td>\n      <td>127</td>\n      <td>277</td>\n      <td>460</td>\n      <td>590</td>\n      <td>780</td>\n      <td>1014</td>\n      <td>1027</td>\n      <td>...</td>\n      <td>758</td>\n      <td>666</td>\n      <td>538</td>\n      <td>294</td>\n      <td>246</td>\n      <td>221</td>\n      <td>176</td>\n      <td>108</td>\n      <td>24</td>\n      <td>9178</td>\n    </tr>\n    <tr>\n      <th>...</th>\n      <td>...</td>\n      <td>...</td>\n      <td>...</td>\n      <td>...</td>\n      <td>...</td>\n      <td>...</td>\n      <td>...</td>\n      <td>...</td>\n      <td>...</td>\n      <td>...</td>\n      <td>...</td>\n      <td>...</td>\n      <td>...</td>\n      <td>...</td>\n      <td>...</td>\n      <td>...</td>\n      <td>...</td>\n      <td>...</td>\n      <td>...</td>\n      <td>...</td>\n      <td>...</td>\n    </tr>\n    <tr>\n      <th>2020-12-31</th>\n      <td>남한산성입구(성남법원.검찰청)</td>\n      <td>47</td>\n      <td>128</td>\n      <td>296</td>\n      <td>672</td>\n      <td>303</td>\n      <td>226</td>\n      <td>256</td>\n      <td>351</td>\n      <td>395</td>\n      <td>...</td>\n      <td>745</td>\n      <td>849</td>\n      <td>1116</td>\n      <td>874</td>\n      <td>548</td>\n      <td>562</td>\n      <td>275</td>\n      <td>154</td>\n      <td>0</td>\n      <td>8932</td>\n    </tr>\n    <tr>\n      <th>2020-12-31</th>\n      <td>단대오거리</td>\n      <td>70</td>\n      <td>205</td>\n      <td>308</td>\n      <td>520</td>\n      <td>274</td>\n      <td>183</td>\n      <td>212</td>\n      <td>300</td>\n      <td>327</td>\n      <td>...</td>\n      <td>573</td>\n      <td>761</td>\n      <td>860</td>\n      <td>660</td>\n      <td>458</td>\n      <td>432</td>\n      <td>237</td>\n      <td>121</td>\n      <td>0</td>\n      <td>7435</td>\n    </tr>\n    <tr>\n      <th>2020-12-31</th>\n      <td>신흥</td>\n      <td>31</td>\n      <td>95</td>\n      <td>78</td>\n      <td>211</td>\n      <td>145</td>\n      <td>165</td>\n      <td>166</td>\n      <td>164</td>\n      <td>221</td>\n      <td>...</td>\n      <td>341</td>\n      <td>381</td>\n      <td>428</td>\n      <td>292</td>\n      <td>229</td>\n      <td>219</td>\n      <td>85</td>\n      <td>42</td>\n      <td>0</td>\n      <td>3920</td>\n    </tr>\n    <tr>\n      <th>2020-12-31</th>\n      <td>수진</td>\n      <td>15</td>\n      <td>70</td>\n      <td>92</td>\n      <td>227</td>\n      <td>190</td>\n      <td>166</td>\n      <td>155</td>\n      <td>149</td>\n      <td>273</td>\n      <td>...</td>\n      <td>309</td>\n      <td>300</td>\n      <td>372</td>\n      <td>296</td>\n      <td>232</td>\n      <td>202</td>\n      <td>127</td>\n      <td>45</td>\n      <td>0</td>\n      <td>3754</td>\n    </tr>\n    <tr>\n      <th>2020-12-31</th>\n      <td>모란</td>\n      <td>15</td>\n      <td>59</td>\n      <td>111</td>\n      <td>181</td>\n      <td>142</td>\n      <td>109</td>\n      <td>125</td>\n      <td>126</td>\n      <td>199</td>\n      <td>...</td>\n      <td>183</td>\n      <td>228</td>\n      <td>183</td>\n      <td>162</td>\n      <td>71</td>\n      <td>99</td>\n      <td>39</td>\n      <td>25</td>\n      <td>3</td>\n      <td>2405</td>\n    </tr>\n  </tbody>\n</table>\n<p>402292 rows × 22 columns</p>\n</div>"
     },
     "execution_count": 141,
     "metadata": {},
     "output_type": "execute_result"
    }
   ],
   "source": [
    "temp"
   ],
   "metadata": {
    "collapsed": false,
    "pycharm": {
     "name": "#%%\n"
    }
   }
  },
  {
   "cell_type": "code",
   "execution_count": null,
   "outputs": [],
   "source": [],
   "metadata": {
    "collapsed": false,
    "pycharm": {
     "name": "#%%\n"
    }
   }
  }
 ],
 "metadata": {
  "kernelspec": {
   "display_name": "Python 3",
   "language": "python",
   "name": "python3"
  },
  "language_info": {
   "codemirror_mode": {
    "name": "ipython",
    "version": 2
   },
   "file_extension": ".py",
   "mimetype": "text/x-python",
   "name": "python",
   "nbconvert_exporter": "python",
   "pygments_lexer": "ipython2",
   "version": "2.7.6"
  }
 },
 "nbformat": 4,
 "nbformat_minor": 0
}