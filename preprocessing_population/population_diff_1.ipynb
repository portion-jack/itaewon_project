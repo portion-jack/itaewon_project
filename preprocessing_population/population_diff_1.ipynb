{
 "cells": [
  {
   "cell_type": "code",
   "execution_count": 1,
   "metadata": {},
   "outputs": [],
   "source": [
    "import glob\n",
    "import pandas as pd\n",
    "import matplotlib.pyplot as plt\n",
    "import seaborn as sns\n",
    "\n",
    "plt.rc('font',family='AppleGothic')\n",
    "plt.rcParams['axes.unicode_minus'] = False"
   ]
  },
  {
   "cell_type": "code",
   "execution_count": 2,
   "metadata": {},
   "outputs": [],
   "source": [
    "seoul_pop_list=sorted(glob.glob('../raw_data/seoul_population_raw/*.csv'))"
   ]
  },
  {
   "cell_type": "code",
   "execution_count": 3,
   "metadata": {},
   "outputs": [],
   "source": [
    "df_mapper=pd.read_csv(\"../raw_data/seoul_population_raw/mapper.csv\")\n",
    "df_mapper.loc[:,['행정동','행정동코드']]\n",
    "mapper_dict={i['행정동코드']:i['행정동'] for i in df_mapper.loc[:,['행정동','행정동코드']].to_dict('records')}"
   ]
  },
  {
   "cell_type": "code",
   "execution_count": 7,
   "metadata": {},
   "outputs": [
    {
     "name": "stdout",
     "output_type": "stream",
     "text": [
      "0\n",
      "3\n",
      "6\n",
      "9\n"
     ]
    }
   ],
   "source": [
    "for i in range(0,10,3):\n",
    "    print(i)"
   ]
  },
  {
   "cell_type": "code",
   "execution_count": 8,
   "metadata": {},
   "outputs": [
    {
     "name": "stderr",
     "output_type": "stream",
     "text": [
      "/var/folders/r1/58cpj4hx7j75vx_3j1y6vpvw0000gn/T/ipykernel_70828/2245331251.py:5: ParserWarning: Length of header or names does not match length of data. This leads to a loss of data with index_col=False.\n",
      "  df_a = pd.read_csv(seoul_pop_list[a],index_col=False,on_bad_lines='skip')\n",
      "/var/folders/r1/58cpj4hx7j75vx_3j1y6vpvw0000gn/T/ipykernel_70828/2245331251.py:7: ParserWarning: Length of header or names does not match length of data. This leads to a loss of data with index_col=False.\n",
      "  df_b = pd.read_csv(seoul_pop_list[b],index_col=False,on_bad_lines='skip')\n",
      "/var/folders/r1/58cpj4hx7j75vx_3j1y6vpvw0000gn/T/ipykernel_70828/2245331251.py:10: ParserWarning: Length of header or names does not match length of data. This leads to a loss of data with index_col=False.\n",
      "  df_c = pd.read_csv(seoul_pop_list[c],index_col=False,on_bad_lines='skip')\n",
      "/var/folders/r1/58cpj4hx7j75vx_3j1y6vpvw0000gn/T/ipykernel_70828/2245331251.py:5: ParserWarning: Length of header or names does not match length of data. This leads to a loss of data with index_col=False.\n",
      "  df_a = pd.read_csv(seoul_pop_list[a],index_col=False,on_bad_lines='skip')\n"
     ]
    }
   ],
   "source": [
    "sumlist =[]\n",
    "for i in range(0,10,3):\n",
    "    a,b,c = i,i+1,i+2\n",
    "\n",
    "    df_a = pd.read_csv(seoul_pop_list[a],index_col=False,on_bad_lines='skip')\n",
    "    try:\n",
    "        df_b = pd.read_csv(seoul_pop_list[b],index_col=False,on_bad_lines='skip')\n",
    "    except UnicodeDecodeError:\n",
    "        df_b = pd.read_csv(seoul_pop_list[b],index_col=False,on_bad_lines='skip',encoding='cp949')\n",
    "    df_c = pd.read_csv(seoul_pop_list[c],index_col=False,on_bad_lines='skip')\n",
    "\n",
    "    df_tot=pd.concat([df_a,df_b,df_c])\n",
    "\n",
    "    df_tot.set_index(\"기준일ID\",inplace=True)\n",
    "    df_tot.index=pd.to_datetime(df_tot.index, format = '%Y%m%d')\n",
    "\n",
    "    df_tot_raw=df_tot.copy()\n",
    "\n",
    "    df_tot['행정동코드']=df_tot['행정동코드'].map(mapper_dict)\n",
    "\n",
    "    temp=df_tot[df_tot['시간대구분'].isin(range(16,23))]\n",
    "    temp=temp[temp.index.day_name().isin(['Friday', 'Saturday', 'Sunday'])]\n",
    "\n",
    "    man_list = ['남자20세부터24세생활인구수', '남자25세부터29세생활인구수','남자30세부터34세생활인구수', '남자35세부터39세생활인구수', '남자40세부터44세생활인구수','남자45세부터49세생활인구수']\n",
    "    woman_list = ['여자20세부터24세생활인구수', '여자25세부터29세생활인구수','여자30세부터34세생활인구수', '여자35세부터39세생활인구수', '여자40세부터44세생활인구수','여자45세부터49세생활인구수']\n",
    "\n",
    "    temp_weekend=temp.loc[:,man_list+woman_list+['행정동코드']]\n",
    "    temp_weekend['총생활인구수']=temp_weekend.iloc[:,:-1].sum(axis=1)\n",
    "\n",
    "    temp=df_tot[df_tot['시간대구분'].isin(range(16,23))]\n",
    "    temp=temp[temp.index.day_name().isin(['Monday', 'Tuesday', 'Wednesday','Thursday'])]\n",
    "\n",
    "    temp=temp.loc[:,man_list+woman_list+['행정동코드']]\n",
    "    temp['총생활인구수']=temp.iloc[:,:-1].sum(axis=1)\n",
    "\n",
    "    tmp=(temp_weekend.groupby('행정동코드')['총생활인구수'].mean().sort_index() - temp.groupby('행정동코드')['총생활인구수'].mean().sort_index())/temp.groupby('행정동코드')['총생활인구수'].std().sort_index()\n",
    "    temp=pd.DataFrame(tmp).rename(columns={'총생활인구수':f'총생활인구수_{i+2017}'})\n",
    "    sumlist.append(temp)"
   ]
  },
  {
   "cell_type": "code",
   "execution_count": 11,
   "metadata": {},
   "outputs": [
    {
     "data": {
      "text/html": [
       "<div>\n",
       "<style scoped>\n",
       "    .dataframe tbody tr th:only-of-type {\n",
       "        vertical-align: middle;\n",
       "    }\n",
       "\n",
       "    .dataframe tbody tr th {\n",
       "        vertical-align: top;\n",
       "    }\n",
       "\n",
       "    .dataframe thead th {\n",
       "        text-align: right;\n",
       "    }\n",
       "</style>\n",
       "<table border=\"1\" class=\"dataframe\">\n",
       "  <thead>\n",
       "    <tr style=\"text-align: right;\">\n",
       "      <th></th>\n",
       "      <th>총생활인구수_2017</th>\n",
       "    </tr>\n",
       "    <tr>\n",
       "      <th>행정동코드</th>\n",
       "      <th></th>\n",
       "    </tr>\n",
       "  </thead>\n",
       "  <tbody>\n",
       "    <tr>\n",
       "      <th>가락1동</th>\n",
       "      <td>0.147910</td>\n",
       "    </tr>\n",
       "    <tr>\n",
       "      <th>가락2동</th>\n",
       "      <td>-0.265621</td>\n",
       "    </tr>\n",
       "    <tr>\n",
       "      <th>가락본동</th>\n",
       "      <td>-1.087932</td>\n",
       "    </tr>\n",
       "    <tr>\n",
       "      <th>가리봉동</th>\n",
       "      <td>-0.618732</td>\n",
       "    </tr>\n",
       "    <tr>\n",
       "      <th>가산동</th>\n",
       "      <td>-0.788577</td>\n",
       "    </tr>\n",
       "    <tr>\n",
       "      <th>...</th>\n",
       "      <td>...</td>\n",
       "    </tr>\n",
       "    <tr>\n",
       "      <th>효창동</th>\n",
       "      <td>-0.616684</td>\n",
       "    </tr>\n",
       "    <tr>\n",
       "      <th>후암동</th>\n",
       "      <td>0.121205</td>\n",
       "    </tr>\n",
       "    <tr>\n",
       "      <th>휘경제1동</th>\n",
       "      <td>0.563214</td>\n",
       "    </tr>\n",
       "    <tr>\n",
       "      <th>휘경제2동</th>\n",
       "      <td>-0.080193</td>\n",
       "    </tr>\n",
       "    <tr>\n",
       "      <th>흑석동</th>\n",
       "      <td>-1.096100</td>\n",
       "    </tr>\n",
       "  </tbody>\n",
       "</table>\n",
       "<p>416 rows × 1 columns</p>\n",
       "</div>"
      ],
      "text/plain": [
       "       총생활인구수_2017\n",
       "행정동코드             \n",
       "가락1동      0.147910\n",
       "가락2동     -0.265621\n",
       "가락본동     -1.087932\n",
       "가리봉동     -0.618732\n",
       "가산동      -0.788577\n",
       "...            ...\n",
       "효창동      -0.616684\n",
       "후암동       0.121205\n",
       "휘경제1동     0.563214\n",
       "휘경제2동    -0.080193\n",
       "흑석동      -1.096100\n",
       "\n",
       "[416 rows x 1 columns]"
      ]
     },
     "execution_count": 11,
     "metadata": {},
     "output_type": "execute_result"
    }
   ],
   "source": [
    "sumlist[0]"
   ]
  },
  {
   "cell_type": "code",
   "execution_count": 14,
   "metadata": {},
   "outputs": [],
   "source": [
    "df_tot=pd.concat(sumlist,axis=1)"
   ]
  },
  {
   "cell_type": "code",
   "execution_count": 15,
   "metadata": {},
   "outputs": [],
   "source": [
    "df_tot['sum']=df_tot.sum(axis=1)"
   ]
  },
  {
   "cell_type": "code",
   "execution_count": 37,
   "metadata": {},
   "outputs": [],
   "source": [
    "mapper={'총생활인구수_2017':'2017', '총생활인구수_2018':'2018', '총생활인구수_2019':'2019', '총생활인구수_2020':'2020','총생활인구수_2021':'2021'}\n",
    "df_tot.rename(columns=mapper,inplace=True)"
   ]
  },
  {
   "cell_type": "code",
   "execution_count": 19,
   "metadata": {},
   "outputs": [
    {
     "data": {
      "text/html": [
       "<div>\n",
       "<style scoped>\n",
       "    .dataframe tbody tr th:only-of-type {\n",
       "        vertical-align: middle;\n",
       "    }\n",
       "\n",
       "    .dataframe tbody tr th {\n",
       "        vertical-align: top;\n",
       "    }\n",
       "\n",
       "    .dataframe thead th {\n",
       "        text-align: right;\n",
       "    }\n",
       "</style>\n",
       "<table border=\"1\" class=\"dataframe\">\n",
       "  <thead>\n",
       "    <tr style=\"text-align: right;\">\n",
       "      <th></th>\n",
       "      <th>총생활인구수_2017</th>\n",
       "      <th>총생활인구수_2020</th>\n",
       "      <th>총생활인구수_2023</th>\n",
       "      <th>총생활인구수_2026</th>\n",
       "      <th>sum</th>\n",
       "    </tr>\n",
       "    <tr>\n",
       "      <th>행정동코드</th>\n",
       "      <th></th>\n",
       "      <th></th>\n",
       "      <th></th>\n",
       "      <th></th>\n",
       "      <th></th>\n",
       "    </tr>\n",
       "  </thead>\n",
       "  <tbody>\n",
       "    <tr>\n",
       "      <th>가락1동</th>\n",
       "      <td>0.147910</td>\n",
       "      <td>0.187006</td>\n",
       "      <td>0.684918</td>\n",
       "      <td>0.395417</td>\n",
       "      <td>1.415252</td>\n",
       "    </tr>\n",
       "    <tr>\n",
       "      <th>가락2동</th>\n",
       "      <td>-0.265621</td>\n",
       "      <td>-0.109611</td>\n",
       "      <td>-0.086765</td>\n",
       "      <td>-0.144781</td>\n",
       "      <td>-0.606778</td>\n",
       "    </tr>\n",
       "    <tr>\n",
       "      <th>가락본동</th>\n",
       "      <td>-1.087932</td>\n",
       "      <td>-1.093168</td>\n",
       "      <td>-1.599101</td>\n",
       "      <td>-1.606761</td>\n",
       "      <td>-5.386961</td>\n",
       "    </tr>\n",
       "    <tr>\n",
       "      <th>가리봉동</th>\n",
       "      <td>-0.618732</td>\n",
       "      <td>-0.997909</td>\n",
       "      <td>-0.691713</td>\n",
       "      <td>-1.098322</td>\n",
       "      <td>-3.406675</td>\n",
       "    </tr>\n",
       "    <tr>\n",
       "      <th>가산동</th>\n",
       "      <td>-0.788577</td>\n",
       "      <td>-0.781327</td>\n",
       "      <td>-0.853224</td>\n",
       "      <td>-0.869750</td>\n",
       "      <td>-3.292877</td>\n",
       "    </tr>\n",
       "    <tr>\n",
       "      <th>...</th>\n",
       "      <td>...</td>\n",
       "      <td>...</td>\n",
       "      <td>...</td>\n",
       "      <td>...</td>\n",
       "      <td>...</td>\n",
       "    </tr>\n",
       "    <tr>\n",
       "      <th>효창동</th>\n",
       "      <td>-0.616684</td>\n",
       "      <td>-0.419457</td>\n",
       "      <td>-0.600068</td>\n",
       "      <td>0.257771</td>\n",
       "      <td>-1.378438</td>\n",
       "    </tr>\n",
       "    <tr>\n",
       "      <th>후암동</th>\n",
       "      <td>0.121205</td>\n",
       "      <td>-0.282389</td>\n",
       "      <td>-0.298492</td>\n",
       "      <td>-0.100997</td>\n",
       "      <td>-0.560673</td>\n",
       "    </tr>\n",
       "    <tr>\n",
       "      <th>휘경제1동</th>\n",
       "      <td>0.563214</td>\n",
       "      <td>0.503456</td>\n",
       "      <td>0.523468</td>\n",
       "      <td>0.239626</td>\n",
       "      <td>1.829764</td>\n",
       "    </tr>\n",
       "    <tr>\n",
       "      <th>휘경제2동</th>\n",
       "      <td>-0.080193</td>\n",
       "      <td>-0.351916</td>\n",
       "      <td>-0.177946</td>\n",
       "      <td>-0.221654</td>\n",
       "      <td>-0.831710</td>\n",
       "    </tr>\n",
       "    <tr>\n",
       "      <th>흑석동</th>\n",
       "      <td>-1.096100</td>\n",
       "      <td>-1.266021</td>\n",
       "      <td>-1.545310</td>\n",
       "      <td>-0.881490</td>\n",
       "      <td>-4.788920</td>\n",
       "    </tr>\n",
       "  </tbody>\n",
       "</table>\n",
       "<p>416 rows × 5 columns</p>\n",
       "</div>"
      ],
      "text/plain": [
       "       총생활인구수_2017  총생활인구수_2020  총생활인구수_2023  총생활인구수_2026       sum\n",
       "행정동코드                                                              \n",
       "가락1동      0.147910     0.187006     0.684918     0.395417  1.415252\n",
       "가락2동     -0.265621    -0.109611    -0.086765    -0.144781 -0.606778\n",
       "가락본동     -1.087932    -1.093168    -1.599101    -1.606761 -5.386961\n",
       "가리봉동     -0.618732    -0.997909    -0.691713    -1.098322 -3.406675\n",
       "가산동      -0.788577    -0.781327    -0.853224    -0.869750 -3.292877\n",
       "...            ...          ...          ...          ...       ...\n",
       "효창동      -0.616684    -0.419457    -0.600068     0.257771 -1.378438\n",
       "후암동       0.121205    -0.282389    -0.298492    -0.100997 -0.560673\n",
       "휘경제1동     0.563214     0.503456     0.523468     0.239626  1.829764\n",
       "휘경제2동    -0.080193    -0.351916    -0.177946    -0.221654 -0.831710\n",
       "흑석동      -1.096100    -1.266021    -1.545310    -0.881490 -4.788920\n",
       "\n",
       "[416 rows x 5 columns]"
      ]
     },
     "execution_count": 19,
     "metadata": {},
     "output_type": "execute_result"
    }
   ],
   "source": [
    "df_tot.sort_values('sum',ascending=False).head(10).iloc[:,:-1].plot(kind='bar', stacked=True,figsize=(14,7))\n",
    "plt.xticks(rotation=0)\n",
    "plt.title('금토일과 평일의 생활인구 격차',fontsize=20)\n",
    "plt.legend(fontsize=20)\n",
    "plt.show()"
   ]
  },
  {
   "cell_type": "code",
   "execution_count": 18,
   "metadata": {},
   "outputs": [
    {
     "data": {
      "image/png": "[encoded data removed]",
      "text/plain": [
       "<Figure size 1400x700 with 1 Axes>"
      ]
     },
     "metadata": {},
     "output_type": "display_data"
    }
   ],
   "source": [
    "df_tot.sort_values('sum',ascending=False).head(10).iloc[:,:-1].plot(kind='bar', stacked=True,figsize=(14,7))\n",
    "plt.xticks(rotation=0)\n",
    "plt.title('금토일과 평일의 생활인구 격차',fontsize=20)\n",
    "plt.legend(fontsize=20)\n",
    "plt.show()"
   ]
  }
 ],
 "metadata": {
  "kernelspec": {
   "display_name": "Python 3.10.6 ('crawling')",
   "language": "python",
   "name": "python3"
  },
  "language_info": {
   "codemirror_mode": {
    "name": "ipython",
    "version": 3
   },
   "file_extension": ".py",
   "mimetype": "text/x-python",
   "name": "python",
   "nbconvert_exporter": "python",
   "pygments_lexer": "ipython3",
   "version": "3.10.6"
  },
  "orig_nbformat": 4,
  "vscode": {
   "interpreter": {
    "hash": "10621530bc52bc3dcaea48e2b7ef028942e35d2e6e9c9234a88fefd069caf90f"
   }
  }
 },
 "nbformat": 4,
 "nbformat_minor": 2
}
